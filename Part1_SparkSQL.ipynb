{
 "cells": [
  {
   "cell_type": "markdown",
   "id": "5f6ec458",
   "metadata": {},
   "source": [
    "# 1- Requêtes SparkSQL\n"
   ]
  },
  {
   "cell_type": "code",
   "execution_count": 1,
   "id": "9cbd66da",
   "metadata": {},
   "outputs": [
    {
     "name": "stdout",
     "output_type": "stream",
     "text": [
      "Requirement already satisfied: findspark in c:\\users\\hp\\anaconda3\\lib\\site-packages (1.4.2)Note: you may need to restart the kernel to use updated packages.\n",
      "\n"
     ]
    }
   ],
   "source": [
    "pip install findspark"
   ]
  },
  {
   "cell_type": "code",
   "execution_count": 2,
   "id": "733adc24",
   "metadata": {},
   "outputs": [
    {
     "data": {
      "text/plain": [
       "'C:\\\\spark'"
      ]
     },
     "execution_count": 2,
     "metadata": {},
     "output_type": "execute_result"
    }
   ],
   "source": [
    "import findspark\n",
    "findspark.init()\n",
    "findspark.find()\n",
    "import pyspark\n",
    "findspark.find()"
   ]
  },
  {
   "cell_type": "code",
   "execution_count": 3,
   "id": "6795c457",
   "metadata": {},
   "outputs": [],
   "source": [
    "from pyspark import SparkContext\n"
   ]
  },
  {
   "cell_type": "code",
   "execution_count": 4,
   "id": "d1652d1c",
   "metadata": {},
   "outputs": [],
   "source": [
    "from pyspark.sql import SQLContext\n"
   ]
  },
  {
   "cell_type": "markdown",
   "id": "8546a224",
   "metadata": {},
   "source": [
    "# INITIALIZING SPARK SESSION\n"
   ]
  },
  {
   "cell_type": "code",
   "execution_count": 5,
   "id": "31f558e5",
   "metadata": {},
   "outputs": [],
   "source": [
    "from pyspark.sql import SparkSession\n",
    "\n",
    "sc = SparkSession \\\n",
    "    .builder \\\n",
    "    .appName(\"Python Spark SQL \") \\\n",
    "    .config(\"spark.some.config.option\", \"some-value\") \\\n",
    "    .getOrCreate()"
   ]
  },
  {
   "cell_type": "code",
   "execution_count": 6,
   "id": "04aed8ab",
   "metadata": {},
   "outputs": [
    {
     "data": {
      "text/html": [
       "\n",
       "            <div>\n",
       "                <p><b>SparkSession - in-memory</b></p>\n",
       "                \n",
       "        <div>\n",
       "            <p><b>SparkContext</b></p>\n",
       "\n",
       "            <p><a href=\"http://DESKTOP-A56SU6N:4040\">Spark UI</a></p>\n",
       "\n",
       "            <dl>\n",
       "              <dt>Version</dt>\n",
       "                <dd><code>v3.1.2</code></dd>\n",
       "              <dt>Master</dt>\n",
       "                <dd><code>local[*]</code></dd>\n",
       "              <dt>AppName</dt>\n",
       "                <dd><code>Python Spark SQL </code></dd>\n",
       "            </dl>\n",
       "        </div>\n",
       "        \n",
       "            </div>\n",
       "        "
      ],
      "text/plain": [
       "<pyspark.sql.session.SparkSession at 0x223085171c0>"
      ]
     },
     "execution_count": 6,
     "metadata": {},
     "output_type": "execute_result"
    }
   ],
   "source": [
    "sc"
   ]
  },
  {
   "cell_type": "code",
   "execution_count": 7,
   "id": "da2b0c73",
   "metadata": {},
   "outputs": [
    {
     "data": {
      "text/plain": [
       "<pyspark.sql.context.SQLContext at 0x22308517ac0>"
      ]
     },
     "execution_count": 7,
     "metadata": {},
     "output_type": "execute_result"
    }
   ],
   "source": [
    "sqlContext = SQLContext(sc)\n",
    "sqlContext"
   ]
  },
  {
   "cell_type": "markdown",
   "id": "6a8386c7",
   "metadata": {},
   "source": [
    "## Importer les données"
   ]
  },
  {
   "cell_type": "code",
   "execution_count": 8,
   "id": "ee1ed9da",
   "metadata": {},
   "outputs": [],
   "source": [
    "from pyspark.sql import SparkSession  \n",
    "scSpark = SparkSession \\\n",
    "    .builder \\\n",
    "    .appName(\"Python Spark SQL: Reading CSV file \") \\\n",
    "    .config(\"spark.some.config.option\", \"some-value\") \\\n",
    "    .getOrCreate()"
   ]
  },
  {
   "cell_type": "markdown",
   "id": "904eadf9",
   "metadata": {},
   "source": [
    "## .show() \n",
    "est utilisée pour afficher le contenu du DataFrame dans un format de tableau de lignes et de colonnes. Par défaut, il n’affiche que 20 lignes, et les valeurs des colonnes sont tronquées à 20 caractères."
   ]
  },
  {
   "cell_type": "code",
   "execution_count": 9,
   "id": "2f6418a1",
   "metadata": {
    "scrolled": true
   },
   "outputs": [
    {
     "name": "stdout",
     "output_type": "stream",
     "text": [
      "+---+-----------+--------+---------+-------+-------+-------+----+-------+---+-----+--------+--------+-----+--------+--------+-------+\n",
      "|age|        job| marital|education|default|balance|housing|loan|contact|day|month|duration|campaign|pdays|previous|poutcome|deposit|\n",
      "+---+-----------+--------+---------+-------+-------+-------+----+-------+---+-----+--------+--------+-----+--------+--------+-------+\n",
      "| 59|     admin.| married|secondary|     no|   2343|    yes|  no|unknown|  5|  may|    1042|       1|   -1|       0| unknown|    yes|\n",
      "| 56|     admin.| married|secondary|     no|     45|     no|  no|unknown|  5|  may|    1467|       1|   -1|       0| unknown|    yes|\n",
      "| 41| technician| married|secondary|     no|   1270|    yes|  no|unknown|  5|  may|    1389|       1|   -1|       0| unknown|    yes|\n",
      "| 55|   services| married|secondary|     no|   2476|    yes|  no|unknown|  5|  may|     579|       1|   -1|       0| unknown|    yes|\n",
      "| 54|     admin.| married| tertiary|     no|    184|     no|  no|unknown|  5|  may|     673|       2|   -1|       0| unknown|    yes|\n",
      "| 42| management|  single| tertiary|     no|      0|    yes| yes|unknown|  5|  may|     562|       2|   -1|       0| unknown|    yes|\n",
      "| 56| management| married| tertiary|     no|    830|    yes| yes|unknown|  6|  may|    1201|       1|   -1|       0| unknown|    yes|\n",
      "| 60|    retired|divorced|secondary|     no|    545|    yes|  no|unknown|  6|  may|    1030|       1|   -1|       0| unknown|    yes|\n",
      "| 37| technician| married|secondary|     no|      1|    yes|  no|unknown|  6|  may|     608|       1|   -1|       0| unknown|    yes|\n",
      "| 28|   services|  single|secondary|     no|   5090|    yes|  no|unknown|  6|  may|    1297|       3|   -1|       0| unknown|    yes|\n",
      "| 38|     admin.|  single|secondary|     no|    100|    yes|  no|unknown|  7|  may|     786|       1|   -1|       0| unknown|    yes|\n",
      "| 30|blue-collar| married|secondary|     no|    309|    yes|  no|unknown|  7|  may|    1574|       2|   -1|       0| unknown|    yes|\n",
      "| 29| management| married| tertiary|     no|    199|    yes| yes|unknown|  7|  may|    1689|       4|   -1|       0| unknown|    yes|\n",
      "| 46|blue-collar|  single| tertiary|     no|    460|    yes|  no|unknown|  7|  may|    1102|       2|   -1|       0| unknown|    yes|\n",
      "| 31| technician|  single| tertiary|     no|    703|    yes|  no|unknown|  8|  may|     943|       2|   -1|       0| unknown|    yes|\n",
      "| 35| management|divorced| tertiary|     no|   3837|    yes|  no|unknown|  8|  may|    1084|       1|   -1|       0| unknown|    yes|\n",
      "| 32|blue-collar|  single|  primary|     no|    611|    yes|  no|unknown|  8|  may|     541|       3|   -1|       0| unknown|    yes|\n",
      "| 49|   services| married|secondary|     no|     -8|    yes|  no|unknown|  8|  may|    1119|       1|   -1|       0| unknown|    yes|\n",
      "| 41|     admin.| married|secondary|     no|     55|    yes|  no|unknown|  8|  may|    1120|       2|   -1|       0| unknown|    yes|\n",
      "| 49|     admin.|divorced|secondary|     no|    168|    yes| yes|unknown|  8|  may|     513|       1|   -1|       0| unknown|    yes|\n",
      "+---+-----------+--------+---------+-------+-------+-------+----+-------+---+-----+--------+--------+-----+--------+--------+-------+\n",
      "only showing top 20 rows\n",
      "\n"
     ]
    }
   ],
   "source": [
    "sdfData = scSpark.read.csv('bank.csv', header=True, sep=\",\")\n",
    "# Affiche le contenu du dataframe\n",
    "sdfData.show()"
   ]
  },
  {
   "cell_type": "code",
   "execution_count": 10,
   "id": "cdce09e9",
   "metadata": {},
   "outputs": [
    {
     "data": {
      "text/plain": [
       "['age',\n",
       " 'job',\n",
       " 'marital',\n",
       " 'education',\n",
       " 'default',\n",
       " 'balance',\n",
       " 'housing',\n",
       " 'loan',\n",
       " 'contact',\n",
       " 'day',\n",
       " 'month',\n",
       " 'duration',\n",
       " 'campaign',\n",
       " 'pdays',\n",
       " 'previous',\n",
       " 'poutcome',\n",
       " 'deposit']"
      ]
     },
     "execution_count": 10,
     "metadata": {},
     "output_type": "execute_result"
    }
   ],
   "source": [
    "# show the dataframe columns\n",
    "sdfData.columns"
   ]
  },
  {
   "cell_type": "code",
   "execution_count": 11,
   "id": "c9f4d873",
   "metadata": {},
   "outputs": [
    {
     "name": "stdout",
     "output_type": "stream",
     "text": [
      "root\n",
      " |-- age: string (nullable = true)\n",
      " |-- job: string (nullable = true)\n",
      " |-- marital: string (nullable = true)\n",
      " |-- education: string (nullable = true)\n",
      " |-- default: string (nullable = true)\n",
      " |-- balance: string (nullable = true)\n",
      " |-- housing: string (nullable = true)\n",
      " |-- loan: string (nullable = true)\n",
      " |-- contact: string (nullable = true)\n",
      " |-- day: string (nullable = true)\n",
      " |-- month: string (nullable = true)\n",
      " |-- duration: string (nullable = true)\n",
      " |-- campaign: string (nullable = true)\n",
      " |-- pdays: string (nullable = true)\n",
      " |-- previous: string (nullable = true)\n",
      " |-- poutcome: string (nullable = true)\n",
      " |-- deposit: string (nullable = true)\n",
      "\n"
     ]
    }
   ],
   "source": [
    "# show the schema of the dataframe\n",
    "sdfData.printSchema()"
   ]
  },
  {
   "cell_type": "markdown",
   "id": "96ee65e4",
   "metadata": {},
   "source": [
    "# Data Exploration"
   ]
  },
  {
   "cell_type": "markdown",
   "id": "fc825ba3",
   "metadata": {},
   "source": [
    "## select()\n",
    "sélectionner une ou plusieurs colonnes du DataFrame en passant les noms des colonnes que vous souhaitez sélectionner à la fonction select()."
   ]
  },
  {
   "cell_type": "code",
   "execution_count": 12,
   "id": "43959054",
   "metadata": {},
   "outputs": [
    {
     "name": "stdout",
     "output_type": "stream",
     "text": [
      "+---+-----------+\n",
      "|age|        job|\n",
      "+---+-----------+\n",
      "| 59|     admin.|\n",
      "| 56|     admin.|\n",
      "| 41| technician|\n",
      "| 55|   services|\n",
      "| 54|     admin.|\n",
      "| 42| management|\n",
      "| 56| management|\n",
      "| 60|    retired|\n",
      "| 37| technician|\n",
      "| 28|   services|\n",
      "| 38|     admin.|\n",
      "| 30|blue-collar|\n",
      "| 29| management|\n",
      "| 46|blue-collar|\n",
      "| 31| technician|\n",
      "| 35| management|\n",
      "| 32|blue-collar|\n",
      "| 49|   services|\n",
      "| 41|     admin.|\n",
      "| 49|     admin.|\n",
      "+---+-----------+\n",
      "only showing top 20 rows\n",
      "\n"
     ]
    }
   ],
   "source": [
    "#By using col() function\n",
    "from pyspark.sql.functions import col\n",
    "sdfData.select(col(\"age\"),col(\"job\")).show()"
   ]
  },
  {
   "cell_type": "markdown",
   "id": "dc007ff4",
   "metadata": {},
   "source": [
    "## .max()\n",
    "La fonction max() renvoie la valeur maximale d’une colonne.\n",
    "\n"
   ]
  },
  {
   "cell_type": "code",
   "execution_count": 13,
   "id": "ff344dcd",
   "metadata": {},
   "outputs": [
    {
     "name": "stdout",
     "output_type": "stream",
     "text": [
      "+------------+\n",
      "|max(balance)|\n",
      "+------------+\n",
      "|9994        |\n",
      "+------------+\n",
      "\n"
     ]
    }
   ],
   "source": [
    "from pyspark.sql.functions import  max\n",
    "sdfData.select(max(\"balance\")).show(truncate=False)"
   ]
  },
  {
   "cell_type": "markdown",
   "id": "f1ab8b3f",
   "metadata": {},
   "source": [
    "## groupBy"
   ]
  },
  {
   "cell_type": "code",
   "execution_count": 14,
   "id": "06833483",
   "metadata": {},
   "outputs": [
    {
     "name": "stdout",
     "output_type": "stream",
     "text": [
      "+---+-----+\n",
      "|age|count|\n",
      "+---+-----+\n",
      "| 51|  194|\n",
      "| 54|  187|\n",
      "| 29|  328|\n",
      "| 69|   20|\n",
      "| 42|  295|\n",
      "| 73|   29|\n",
      "| 87|    4|\n",
      "| 64|   37|\n",
      "| 30|  456|\n",
      "| 34|  466|\n",
      "| 59|  184|\n",
      "| 28|  292|\n",
      "| 22|   48|\n",
      "| 85|    5|\n",
      "| 35|  461|\n",
      "| 52|  205|\n",
      "| 71|   27|\n",
      "| 47|  255|\n",
      "| 43|  249|\n",
      "| 31|  496|\n",
      "+---+-----+\n",
      "only showing top 20 rows\n",
      "\n"
     ]
    }
   ],
   "source": [
    "# Count by age\n",
    "sdfData.groupBy(\"age\").count().show()\n"
   ]
  },
  {
   "cell_type": "code",
   "execution_count": 15,
   "id": "8d9c9c82",
   "metadata": {},
   "outputs": [
    {
     "name": "stdout",
     "output_type": "stream",
     "text": [
      "+-------+-----+\n",
      "|deposit|count|\n",
      "+-------+-----+\n",
      "|     no| 5873|\n",
      "|    yes| 5289|\n",
      "+-------+-----+\n",
      "\n"
     ]
    }
   ],
   "source": [
    "# Regrouper par deposit\n",
    "sdfData.groupBy(\"deposit\").count().show(10)"
   ]
  },
  {
   "cell_type": "markdown",
   "id": "82e7e900",
   "metadata": {},
   "source": [
    "##  statistiques récapitulatives"
   ]
  },
  {
   "cell_type": "code",
   "execution_count": 16,
   "id": "402d4c9d",
   "metadata": {},
   "outputs": [
    {
     "name": "stdout",
     "output_type": "stream",
     "text": [
      "+-------+------------------+-------+--------+---------+-------+------------------+-------+-----+--------+------------------+-----+------------------+------------------+------------------+------------------+--------+-------+\n",
      "|summary|               age|    job| marital|education|default|           balance|housing| loan| contact|               day|month|          duration|          campaign|             pdays|          previous|poutcome|deposit|\n",
      "+-------+------------------+-------+--------+---------+-------+------------------+-------+-----+--------+------------------+-----+------------------+------------------+------------------+------------------+--------+-------+\n",
      "|  count|             11162|  11162|   11162|    11162|  11162|             11162|  11162|11162|   11162|             11162|11162|             11162|             11162|             11162|             11162|   11162|  11162|\n",
      "|   mean|41.231947679627304|   null|    null|     null|   null|1528.5385235620856|   null| null|    null|15.658036194230425| null|371.99381831213043| 2.508421429851281| 51.33040673714388|0.8325568894463358|    null|   null|\n",
      "| stddev|11.913369192215518|   null|    null|     null|   null| 3225.413325946149|   null| null|    null| 8.420739541006462| null|347.12838571630687|2.7220771816614824|108.75828197197717| 2.292007218670508|    null|   null|\n",
      "|    min|                18| admin.|divorced|  primary|     no|                -1|     no|   no|cellular|                 1|  apr|                10|                 1|                -1|                 0| failure|     no|\n",
      "|    max|                95|unknown|  single|  unknown|    yes|              9994|    yes|  yes| unknown|                 9|  sep|               999|                 9|                99|                 9| unknown|    yes|\n",
      "+-------+------------------+-------+--------+---------+-------+------------------+-------+-----+--------+------------------+-----+------------------+------------------+------------------+------------------+--------+-------+\n",
      "\n"
     ]
    }
   ],
   "source": [
    "# Calcule les statistiques récapitulatives\n",
    "sdfData.describe().show()"
   ]
  },
  {
   "cell_type": "code",
   "execution_count": 17,
   "id": "2299fa50",
   "metadata": {},
   "outputs": [
    {
     "data": {
      "text/plain": [
       "pyspark.sql.dataframe.DataFrame"
      ]
     },
     "execution_count": 17,
     "metadata": {},
     "output_type": "execute_result"
    }
   ],
   "source": [
    " type(sdfData.describe())"
   ]
  },
  {
   "cell_type": "code",
   "execution_count": 18,
   "id": "7ba7fc3f",
   "metadata": {},
   "outputs": [
    {
     "data": {
      "text/plain": [
       "[('summary', 'string'),\n",
       " ('age', 'string'),\n",
       " ('job', 'string'),\n",
       " ('marital', 'string'),\n",
       " ('education', 'string'),\n",
       " ('default', 'string'),\n",
       " ('balance', 'string'),\n",
       " ('housing', 'string'),\n",
       " ('loan', 'string'),\n",
       " ('contact', 'string'),\n",
       " ('day', 'string'),\n",
       " ('month', 'string'),\n",
       " ('duration', 'string'),\n",
       " ('campaign', 'string'),\n",
       " ('pdays', 'string'),\n",
       " ('previous', 'string'),\n",
       " ('poutcome', 'string'),\n",
       " ('deposit', 'string')]"
      ]
     },
     "execution_count": 18,
     "metadata": {},
     "output_type": "execute_result"
    }
   ],
   "source": [
    "sdfData.describe().dtypes"
   ]
  },
  {
   "cell_type": "markdown",
   "id": "149b481b",
   "metadata": {},
   "source": [
    "## Supprimer des colonnes\n",
    "La suppression d'une colonne peut être réalisée en ajoutant la liste des noms de colonnes dans la fonction drop() "
   ]
  },
  {
   "cell_type": "code",
   "execution_count": 19,
   "id": "c64c5c85",
   "metadata": {},
   "outputs": [
    {
     "name": "stdout",
     "output_type": "stream",
     "text": [
      "+---+----------+---------+-------+-------+-------+----+-------+--------+--------+-----+--------+--------+-------+\n",
      "|age|       job|education|default|balance|housing|loan|contact|duration|campaign|pdays|previous|poutcome|deposit|\n",
      "+---+----------+---------+-------+-------+-------+----+-------+--------+--------+-----+--------+--------+-------+\n",
      "| 59|    admin.|secondary|     no|   2343|    yes|  no|unknown|    1042|       1|   -1|       0| unknown|    yes|\n",
      "| 56|    admin.|secondary|     no|     45|     no|  no|unknown|    1467|       1|   -1|       0| unknown|    yes|\n",
      "| 41|technician|secondary|     no|   1270|    yes|  no|unknown|    1389|       1|   -1|       0| unknown|    yes|\n",
      "| 55|  services|secondary|     no|   2476|    yes|  no|unknown|     579|       1|   -1|       0| unknown|    yes|\n",
      "| 54|    admin.| tertiary|     no|    184|     no|  no|unknown|     673|       2|   -1|       0| unknown|    yes|\n",
      "| 42|management| tertiary|     no|      0|    yes| yes|unknown|     562|       2|   -1|       0| unknown|    yes|\n",
      "| 56|management| tertiary|     no|    830|    yes| yes|unknown|    1201|       1|   -1|       0| unknown|    yes|\n",
      "| 60|   retired|secondary|     no|    545|    yes|  no|unknown|    1030|       1|   -1|       0| unknown|    yes|\n",
      "+---+----------+---------+-------+-------+-------+----+-------+--------+--------+-----+--------+--------+-------+\n",
      "only showing top 8 rows\n",
      "\n"
     ]
    }
   ],
   "source": [
    "dataframe_remove = sdfData.drop(\"day\", \"month\",\"marital\").show(8)"
   ]
  },
  {
   "cell_type": "markdown",
   "id": "ddc20257",
   "metadata": {},
   "source": [
    "## filtre "
   ]
  },
  {
   "cell_type": "code",
   "execution_count": 20,
   "id": "39daefd5",
   "metadata": {},
   "outputs": [
    {
     "data": {
      "text/plain": [
       "8389"
      ]
     },
     "execution_count": 20,
     "metadata": {},
     "output_type": "execute_result"
    }
   ],
   "source": [
    "sdfData.filter(sdfData.duration < 500).count() "
   ]
  },
  {
   "cell_type": "code",
   "execution_count": 21,
   "id": "9a41b996",
   "metadata": {},
   "outputs": [
    {
     "data": {
      "text/plain": [
       "2766"
      ]
     },
     "execution_count": 21,
     "metadata": {},
     "output_type": "execute_result"
    }
   ],
   "source": [
    "sdfData.filter(sdfData.duration > 500).count() "
   ]
  },
  {
   "cell_type": "code",
   "execution_count": 22,
   "id": "3b9107f1",
   "metadata": {},
   "outputs": [
    {
     "data": {
      "text/plain": [
       "774"
      ]
     },
     "execution_count": 22,
     "metadata": {},
     "output_type": "execute_result"
    }
   ],
   "source": [
    "sdfData.filter(sdfData.balance == 0.0).count() "
   ]
  },
  {
   "cell_type": "markdown",
   "id": "5a432c7a",
   "metadata": {},
   "source": [
    "# Utilisation d’une requête SQL dans un programme\n",
    "\n"
   ]
  },
  {
   "cell_type": "markdown",
   "id": "d51c0f28",
   "metadata": {},
   "source": [
    "Le SparkSession fournit une méthode appelée sql qui peut être utilisée pour exécuter une requête SQL. La méthode sql prend une instruction SQL comme argument et renvoie un DataFrame représentant le résultat de la requête donnée. Malheureusement, les requêtes SQL ne peuvent pas être exécutées directement sur un DataFrame.\n",
    "\n",
    "Pour émettre des requêtes SQL sur un DataFrame existant, nous pouvons tirer parti de la fonction createOrReplaceTempView pour créer une table temporaire."
   ]
  },
  {
   "cell_type": "code",
   "execution_count": 23,
   "id": "2c27f5df",
   "metadata": {},
   "outputs": [
    {
     "name": "stdout",
     "output_type": "stream",
     "text": [
      "+---+------+--------+---------+-------+-------+-------+----+-------+---+-----+--------+--------+-----+--------+--------+-------+\n",
      "|age|   job| marital|education|default|balance|housing|loan|contact|day|month|duration|campaign|pdays|previous|poutcome|deposit|\n",
      "+---+------+--------+---------+-------+-------+-------+----+-------+---+-----+--------+--------+-----+--------+--------+-------+\n",
      "| 59|admin.| married|secondary|     no|   2343|    yes|  no|unknown|  5|  may|    1042|       1|   -1|       0| unknown|    yes|\n",
      "| 56|admin.| married|secondary|     no|     45|     no|  no|unknown|  5|  may|    1467|       1|   -1|       0| unknown|    yes|\n",
      "| 54|admin.| married| tertiary|     no|    184|     no|  no|unknown|  5|  may|     673|       2|   -1|       0| unknown|    yes|\n",
      "| 38|admin.|  single|secondary|     no|    100|    yes|  no|unknown|  7|  may|     786|       1|   -1|       0| unknown|    yes|\n",
      "| 41|admin.| married|secondary|     no|     55|    yes|  no|unknown|  8|  may|    1120|       2|   -1|       0| unknown|    yes|\n",
      "| 49|admin.|divorced|secondary|     no|    168|    yes| yes|unknown|  8|  may|     513|       1|   -1|       0| unknown|    yes|\n",
      "| 28|admin.|divorced|secondary|     no|    785|    yes|  no|unknown|  8|  may|     442|       2|   -1|       0| unknown|    yes|\n",
      "| 31|admin.| married|secondary|     no|    307|    yes|  no|unknown|  9|  may|     538|       1|   -1|       0| unknown|    yes|\n",
      "| 40|admin.| married|secondary|     no|   1535|    yes|  no|unknown| 14|  may|     704|       1|   -1|       0| unknown|    yes|\n",
      "| 41|admin.| married|  primary|     no|   -306|    yes|  no|unknown| 15|  may|     500|       1|   -1|       0| unknown|    yes|\n",
      "| 29|admin.|  single|secondary|     no|    163|    yes| yes|unknown| 16|  may|     803|       1|   -1|       0| unknown|    yes|\n",
      "| 50|admin.|divorced|secondary|     no|    363|    yes|  no|unknown| 16|  may|    1340|       1|   -1|       0| unknown|    yes|\n",
      "| 41|admin.|  single|secondary|     no|   1020|    yes|  no|unknown| 19|  may|     882|       1|   -1|       0| unknown|    yes|\n",
      "| 31|admin.| married|secondary|     no|     97|    yes|  no|unknown| 19|  may|     607|       1|   -1|       0| unknown|    yes|\n",
      "| 31|admin.|  single|secondary|     no|    431|    yes| yes|unknown| 20|  may|    1045|       1|   -1|       0| unknown|    yes|\n",
      "| 45|admin.| married|secondary|     no|    149|    yes|  no|unknown| 23|  may|     893|       3|   -1|       0| unknown|    yes|\n",
      "| 32|admin.|  single|secondary|     no|    620|    yes|  no|unknown| 26|  may|    1234|       3|   -1|       0| unknown|    yes|\n",
      "| 38|admin.|divorced|secondary|     no|    198|    yes|  no|unknown| 26|  may|     431|       2|   -1|       0| unknown|    yes|\n",
      "| 28|admin.|  single|secondary|     no|    460|    yes|  no|unknown| 26|  may|     741|       6|   -1|       0| unknown|    yes|\n",
      "| 37|admin.| married|secondary|     no|    274|    yes|  no|unknown| 27|  may|     731|       3|   -1|       0| unknown|    yes|\n",
      "+---+------+--------+---------+-------+-------+-------+----+-------+---+-----+--------+--------+-----+--------+--------+-------+\n",
      "only showing top 20 rows\n",
      "\n"
     ]
    }
   ],
   "source": [
    "# Enregistrement du DataFrame comme une vue temporaire\n",
    "sdfData.createOrReplaceTempView(\"bank\")\n",
    "\n",
    "# Utilisez la commande suivante pour sélectionner tous les enregistrements de la table bank . \n",
    "# Ici, nous utilisons la variable job pour capturer toutes les données des enregistrements.\n",
    "\n",
    "sqlDF = sc.sql(\"SELECT * FROM bank WHERE job = 'admin.'\")\n",
    "\n",
    "# Pour afficher ces enregistrements, appelez la méthode show () .\n",
    "sqlDF.show()"
   ]
  },
  {
   "cell_type": "markdown",
   "id": "4524ad93",
   "metadata": {},
   "source": [
    "# Fin de la session Spark\n"
   ]
  },
  {
   "cell_type": "code",
   "execution_count": 24,
   "id": "76c0783b",
   "metadata": {},
   "outputs": [],
   "source": [
    " sc.stop()"
   ]
  }
 ],
 "metadata": {
  "kernelspec": {
   "display_name": "Python 3 (ipykernel)",
   "language": "python",
   "name": "python3"
  },
  "language_info": {
   "codemirror_mode": {
    "name": "ipython",
    "version": 3
   },
   "file_extension": ".py",
   "mimetype": "text/x-python",
   "name": "python",
   "nbconvert_exporter": "python",
   "pygments_lexer": "ipython3",
   "version": "3.8.8"
  }
 },
 "nbformat": 4,
 "nbformat_minor": 5
}
