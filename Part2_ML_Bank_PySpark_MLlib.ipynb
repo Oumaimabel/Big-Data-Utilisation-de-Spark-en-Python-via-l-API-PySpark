{
 "cells": [
  {
   "cell_type": "markdown",
   "id": "15bf2b59",
   "metadata": {},
   "source": [
    "# 2- Machine Learning avec PySpark et MLlib\n",
    "## Résoudre un problème de classification binaire\n"
   ]
  },
  {
   "cell_type": "markdown",
   "id": "dbf589ac",
   "metadata": {},
   "source": [
    "# Data\n",
    "L'ensemble de données provient de l'**UCI Machine Learning repository**, il est lié aux campagnes de marketing direct (appels téléphoniques) d'une institution bancaire portugaise. L'objectif de la classification est de prédire si le client souscrira (Oui/Non) à un dépôt à terme.\n",
    "L'ensemble de données peut être téléchargé à partir de Kaggle: https://www.kaggle.com/rouseguy/bankbalanced/data"
   ]
  },
  {
   "cell_type": "markdown",
   "id": "c916007a",
   "metadata": {},
   "source": [
    "### Variables:\n",
    "1- age (numeric)\n",
    "\n",
    "2- job : type of job (categorical: “admin”, “blue-collar”, “entrepreneur”, “housemaid”, “management”, “retired”, “self-employed”, “services”, “student”, “technician”, “unemployed”, “unknown”)\n",
    "\n",
    "3- marital : marital status (categorical: “divorced”, “married”, “single”, “unknown”)\n",
    "\n",
    "4- education (categorical: “basic.4y”, “basic.6y”, “basic.9y”, “high.school”, “illiterate”, “professional.course”, “university.degree”, “unknown”)\n",
    "\n",
    "5- default: has credit in default? (categorical: “no”, “yes”, “unknown”)\n",
    "\n",
    "6- balance (numeric)\n",
    "\n",
    "7- housing: has housing loan? (categorical: “no”, “yes”, “unknown”)\n",
    "\n",
    "8- loan: has personal loan? (categorical: “no”, “yes”, “unknown”)\n",
    "\n",
    "9- contact: contact communication type (categorical: “cellular”, “telephone”)\n",
    "\n",
    "10- day: last contact day of the week (categorical: “mon”= 1, “tue”= 2, “wed”=3, ...)\n",
    "\n",
    "11- month: last contact month of year (categorical: “jan”, “feb”, “mar”, …, “nov”, “dec”)\n",
    "\n",
    "12- duration: last contact duration, in seconds (numeric). \n",
    "\n",
    "**Important note:** this attribute highly affects the output target (e.g., if duration=0 then y=’no’). The duration is not known before a call is performed, also, after the end of the call, y is obviously known. Thus, this input should only be included for benchmark purposes and should be discarded if the intention is to have a realistic predictive model\n",
    "\n",
    "13- campaign: number of contacts performed during this campaign and for this client (numeric, includes last contact)\n",
    "\n",
    "14- pdays: number of days that passed by after the client was last contacted from a previous campaign (numeric; 999 means client was not previously contacted)\n",
    "\n",
    "15- previous: number of contacts performed before this campaign and for this client (numeric)\n",
    "\n",
    "16- poutcome: outcome of the previous marketing campaign (categorical: “failure”, “nonexistent”, “success”)\n",
    "\n",
    "17- deposit: has the client subscribed a term deposit? (binary: “1”, means “Yes”, “0” means “No”)"
   ]
  },
  {
   "cell_type": "markdown",
   "id": "96542159",
   "metadata": {},
   "source": [
    "### Input variables:\n",
    "age, job, marital, education, default, balance, housing, loan, contact, day, month, duration, campaign, pdays, previous, poutcome."
   ]
  },
  {
   "cell_type": "markdown",
   "id": "2710b584",
   "metadata": {},
   "source": [
    "### Output variable: \n",
    "deposit"
   ]
  },
  {
   "cell_type": "markdown",
   "id": "684a9e58",
   "metadata": {},
   "source": [
    "- **pyspark.sql.SparkSession** représente le point d’entrée principal pour les fonctionnalités DataFrame et SQL.\n",
    "- **\"spark = SparkSession.builder.appName('ml-bank').getOrCreate()\"** Pour la création d'un DataFrame PySpark à partir d’un datasource (un fichier CSV dans notre cas) \n",
    "- **getOrCreat()** créera la SparkSession s'il n'en existe pas déjà ou réutilisera une SparkSession existante.\n",
    "- **\"DataFrame.printSchema()\"** fournit une vue facilement lisible du schéma DataFrame.\n",
    "\n",
    "**Remarque:** La colonne peut contenir des valeurs manquantes si la propriété **nullable** est définie sur true.\n"
   ]
  },
  {
   "cell_type": "code",
   "execution_count": 1,
   "id": "242d1031",
   "metadata": {},
   "outputs": [
    {
     "name": "stdout",
     "output_type": "stream",
     "text": [
      "root\n",
      " |-- age: integer (nullable = true)\n",
      " |-- job: string (nullable = true)\n",
      " |-- marital: string (nullable = true)\n",
      " |-- education: string (nullable = true)\n",
      " |-- default: string (nullable = true)\n",
      " |-- balance: integer (nullable = true)\n",
      " |-- housing: string (nullable = true)\n",
      " |-- loan: string (nullable = true)\n",
      " |-- contact: string (nullable = true)\n",
      " |-- day: integer (nullable = true)\n",
      " |-- month: string (nullable = true)\n",
      " |-- duration: integer (nullable = true)\n",
      " |-- campaign: integer (nullable = true)\n",
      " |-- pdays: integer (nullable = true)\n",
      " |-- previous: integer (nullable = true)\n",
      " |-- poutcome: string (nullable = true)\n",
      " |-- deposit: string (nullable = true)\n",
      "\n"
     ]
    }
   ],
   "source": [
    "from pyspark.sql import SparkSession\n",
    "spark = SparkSession.builder.appName('ml-bank').getOrCreate()\n",
    "df = spark.read.csv('bank.csv', header = True, inferSchema = True)\n",
    "df.printSchema()"
   ]
  },
  {
   "cell_type": "markdown",
   "id": "ee193099",
   "metadata": {},
   "source": [
    "L'ensemble de données fournit les informations des clients de la banque. Il comprend **11 162** enregistrements et **17** champs."
   ]
  },
  {
   "cell_type": "markdown",
   "id": "2f466aaf",
   "metadata": {},
   "source": [
    "- Pour afficher la 1ere ligne du DataFrame:"
   ]
  },
  {
   "cell_type": "code",
   "execution_count": 2,
   "id": "0f32eab7",
   "metadata": {},
   "outputs": [
    {
     "data": {
      "text/plain": [
       "Row(age=59, job='admin.', marital='married', education='secondary', default='no', balance=2343, housing='yes', loan='no', contact='unknown', day=5, month='may', duration=1042, campaign=1, pdays=-1, previous=0, poutcome='unknown', deposit='yes')"
      ]
     },
     "execution_count": 2,
     "metadata": {},
     "output_type": "execute_result"
    }
   ],
   "source": [
    "df.head()"
   ]
  },
  {
   "cell_type": "markdown",
   "id": "2776c358",
   "metadata": {},
   "source": [
    "- Pour afficher la liste des différentes colonnes du DataFrame:"
   ]
  },
  {
   "cell_type": "code",
   "execution_count": 3,
   "id": "df305f21",
   "metadata": {},
   "outputs": [
    {
     "name": "stdout",
     "output_type": "stream",
     "text": [
      "['age', 'job', 'marital', 'education', 'default', 'balance', 'housing', 'loan', 'contact', 'day', 'month', 'duration', 'campaign', 'pdays', 'previous', 'poutcome', 'deposit']\n"
     ]
    }
   ],
   "source": [
    "print(list(df.columns))"
   ]
  },
  {
   "cell_type": "markdown",
   "id": "4b64e176",
   "metadata": {},
   "source": [
    " **\".show()\"** est utilisée pour afficher le contenu du DataFrame dans un format de tableau de lignes et de colonnes. Par défaut, il n’affiche que 20 lignes."
   ]
  },
  {
   "cell_type": "code",
   "execution_count": 4,
   "id": "59cf6427",
   "metadata": {},
   "outputs": [
    {
     "name": "stdout",
     "output_type": "stream",
     "text": [
      "+---+-----------+--------+---------+-------+-------+-------+----+-------+---+-----+--------+--------+-----+--------+--------+-------+\n",
      "|age|        job| marital|education|default|balance|housing|loan|contact|day|month|duration|campaign|pdays|previous|poutcome|deposit|\n",
      "+---+-----------+--------+---------+-------+-------+-------+----+-------+---+-----+--------+--------+-----+--------+--------+-------+\n",
      "| 59|     admin.| married|secondary|     no|   2343|    yes|  no|unknown|  5|  may|    1042|       1|   -1|       0| unknown|    yes|\n",
      "| 56|     admin.| married|secondary|     no|     45|     no|  no|unknown|  5|  may|    1467|       1|   -1|       0| unknown|    yes|\n",
      "| 41| technician| married|secondary|     no|   1270|    yes|  no|unknown|  5|  may|    1389|       1|   -1|       0| unknown|    yes|\n",
      "| 55|   services| married|secondary|     no|   2476|    yes|  no|unknown|  5|  may|     579|       1|   -1|       0| unknown|    yes|\n",
      "| 54|     admin.| married| tertiary|     no|    184|     no|  no|unknown|  5|  may|     673|       2|   -1|       0| unknown|    yes|\n",
      "| 42| management|  single| tertiary|     no|      0|    yes| yes|unknown|  5|  may|     562|       2|   -1|       0| unknown|    yes|\n",
      "| 56| management| married| tertiary|     no|    830|    yes| yes|unknown|  6|  may|    1201|       1|   -1|       0| unknown|    yes|\n",
      "| 60|    retired|divorced|secondary|     no|    545|    yes|  no|unknown|  6|  may|    1030|       1|   -1|       0| unknown|    yes|\n",
      "| 37| technician| married|secondary|     no|      1|    yes|  no|unknown|  6|  may|     608|       1|   -1|       0| unknown|    yes|\n",
      "| 28|   services|  single|secondary|     no|   5090|    yes|  no|unknown|  6|  may|    1297|       3|   -1|       0| unknown|    yes|\n",
      "| 38|     admin.|  single|secondary|     no|    100|    yes|  no|unknown|  7|  may|     786|       1|   -1|       0| unknown|    yes|\n",
      "| 30|blue-collar| married|secondary|     no|    309|    yes|  no|unknown|  7|  may|    1574|       2|   -1|       0| unknown|    yes|\n",
      "| 29| management| married| tertiary|     no|    199|    yes| yes|unknown|  7|  may|    1689|       4|   -1|       0| unknown|    yes|\n",
      "| 46|blue-collar|  single| tertiary|     no|    460|    yes|  no|unknown|  7|  may|    1102|       2|   -1|       0| unknown|    yes|\n",
      "| 31| technician|  single| tertiary|     no|    703|    yes|  no|unknown|  8|  may|     943|       2|   -1|       0| unknown|    yes|\n",
      "| 35| management|divorced| tertiary|     no|   3837|    yes|  no|unknown|  8|  may|    1084|       1|   -1|       0| unknown|    yes|\n",
      "| 32|blue-collar|  single|  primary|     no|    611|    yes|  no|unknown|  8|  may|     541|       3|   -1|       0| unknown|    yes|\n",
      "| 49|   services| married|secondary|     no|     -8|    yes|  no|unknown|  8|  may|    1119|       1|   -1|       0| unknown|    yes|\n",
      "| 41|     admin.| married|secondary|     no|     55|    yes|  no|unknown|  8|  may|    1120|       2|   -1|       0| unknown|    yes|\n",
      "| 49|     admin.|divorced|secondary|     no|    168|    yes| yes|unknown|  8|  may|     513|       1|   -1|       0| unknown|    yes|\n",
      "+---+-----------+--------+---------+-------+-------+-------+----+-------+---+-----+--------+--------+-----+--------+--------+-------+\n",
      "only showing top 20 rows\n",
      "\n"
     ]
    }
   ],
   "source": [
    "df.show()"
   ]
  },
  {
   "cell_type": "markdown",
   "id": "01d060dd",
   "metadata": {},
   "source": [
    "# Data Exploration"
   ]
  },
  {
   "cell_type": "markdown",
   "id": "c42979d4",
   "metadata": {},
   "source": [
    "Pandas dataframe est plus jolie que Spark DataFrame.show()"
   ]
  },
  {
   "cell_type": "code",
   "execution_count": 5,
   "id": "1fbd512f",
   "metadata": {},
   "outputs": [
    {
     "data": {
      "text/html": [
       "<div>\n",
       "<style scoped>\n",
       "    .dataframe tbody tr th:only-of-type {\n",
       "        vertical-align: middle;\n",
       "    }\n",
       "\n",
       "    .dataframe tbody tr th {\n",
       "        vertical-align: top;\n",
       "    }\n",
       "\n",
       "    .dataframe thead th {\n",
       "        text-align: right;\n",
       "    }\n",
       "</style>\n",
       "<table border=\"1\" class=\"dataframe\">\n",
       "  <thead>\n",
       "    <tr style=\"text-align: right;\">\n",
       "      <th></th>\n",
       "      <th>0</th>\n",
       "      <th>1</th>\n",
       "      <th>2</th>\n",
       "      <th>3</th>\n",
       "      <th>4</th>\n",
       "    </tr>\n",
       "  </thead>\n",
       "  <tbody>\n",
       "    <tr>\n",
       "      <th>age</th>\n",
       "      <td>59</td>\n",
       "      <td>56</td>\n",
       "      <td>41</td>\n",
       "      <td>55</td>\n",
       "      <td>54</td>\n",
       "    </tr>\n",
       "    <tr>\n",
       "      <th>job</th>\n",
       "      <td>admin.</td>\n",
       "      <td>admin.</td>\n",
       "      <td>technician</td>\n",
       "      <td>services</td>\n",
       "      <td>admin.</td>\n",
       "    </tr>\n",
       "    <tr>\n",
       "      <th>marital</th>\n",
       "      <td>married</td>\n",
       "      <td>married</td>\n",
       "      <td>married</td>\n",
       "      <td>married</td>\n",
       "      <td>married</td>\n",
       "    </tr>\n",
       "    <tr>\n",
       "      <th>education</th>\n",
       "      <td>secondary</td>\n",
       "      <td>secondary</td>\n",
       "      <td>secondary</td>\n",
       "      <td>secondary</td>\n",
       "      <td>tertiary</td>\n",
       "    </tr>\n",
       "    <tr>\n",
       "      <th>default</th>\n",
       "      <td>no</td>\n",
       "      <td>no</td>\n",
       "      <td>no</td>\n",
       "      <td>no</td>\n",
       "      <td>no</td>\n",
       "    </tr>\n",
       "    <tr>\n",
       "      <th>balance</th>\n",
       "      <td>2343</td>\n",
       "      <td>45</td>\n",
       "      <td>1270</td>\n",
       "      <td>2476</td>\n",
       "      <td>184</td>\n",
       "    </tr>\n",
       "    <tr>\n",
       "      <th>housing</th>\n",
       "      <td>yes</td>\n",
       "      <td>no</td>\n",
       "      <td>yes</td>\n",
       "      <td>yes</td>\n",
       "      <td>no</td>\n",
       "    </tr>\n",
       "    <tr>\n",
       "      <th>loan</th>\n",
       "      <td>no</td>\n",
       "      <td>no</td>\n",
       "      <td>no</td>\n",
       "      <td>no</td>\n",
       "      <td>no</td>\n",
       "    </tr>\n",
       "    <tr>\n",
       "      <th>contact</th>\n",
       "      <td>unknown</td>\n",
       "      <td>unknown</td>\n",
       "      <td>unknown</td>\n",
       "      <td>unknown</td>\n",
       "      <td>unknown</td>\n",
       "    </tr>\n",
       "    <tr>\n",
       "      <th>day</th>\n",
       "      <td>5</td>\n",
       "      <td>5</td>\n",
       "      <td>5</td>\n",
       "      <td>5</td>\n",
       "      <td>5</td>\n",
       "    </tr>\n",
       "    <tr>\n",
       "      <th>month</th>\n",
       "      <td>may</td>\n",
       "      <td>may</td>\n",
       "      <td>may</td>\n",
       "      <td>may</td>\n",
       "      <td>may</td>\n",
       "    </tr>\n",
       "    <tr>\n",
       "      <th>duration</th>\n",
       "      <td>1042</td>\n",
       "      <td>1467</td>\n",
       "      <td>1389</td>\n",
       "      <td>579</td>\n",
       "      <td>673</td>\n",
       "    </tr>\n",
       "    <tr>\n",
       "      <th>campaign</th>\n",
       "      <td>1</td>\n",
       "      <td>1</td>\n",
       "      <td>1</td>\n",
       "      <td>1</td>\n",
       "      <td>2</td>\n",
       "    </tr>\n",
       "    <tr>\n",
       "      <th>pdays</th>\n",
       "      <td>-1</td>\n",
       "      <td>-1</td>\n",
       "      <td>-1</td>\n",
       "      <td>-1</td>\n",
       "      <td>-1</td>\n",
       "    </tr>\n",
       "    <tr>\n",
       "      <th>previous</th>\n",
       "      <td>0</td>\n",
       "      <td>0</td>\n",
       "      <td>0</td>\n",
       "      <td>0</td>\n",
       "      <td>0</td>\n",
       "    </tr>\n",
       "    <tr>\n",
       "      <th>poutcome</th>\n",
       "      <td>unknown</td>\n",
       "      <td>unknown</td>\n",
       "      <td>unknown</td>\n",
       "      <td>unknown</td>\n",
       "      <td>unknown</td>\n",
       "    </tr>\n",
       "    <tr>\n",
       "      <th>deposit</th>\n",
       "      <td>yes</td>\n",
       "      <td>yes</td>\n",
       "      <td>yes</td>\n",
       "      <td>yes</td>\n",
       "      <td>yes</td>\n",
       "    </tr>\n",
       "  </tbody>\n",
       "</table>\n",
       "</div>"
      ],
      "text/plain": [
       "                   0          1           2          3         4\n",
       "age               59         56          41         55        54\n",
       "job           admin.     admin.  technician   services    admin.\n",
       "marital      married    married     married    married   married\n",
       "education  secondary  secondary   secondary  secondary  tertiary\n",
       "default           no         no          no         no        no\n",
       "balance         2343         45        1270       2476       184\n",
       "housing          yes         no         yes        yes        no\n",
       "loan              no         no          no         no        no\n",
       "contact      unknown    unknown     unknown    unknown   unknown\n",
       "day                5          5           5          5         5\n",
       "month            may        may         may        may       may\n",
       "duration        1042       1467        1389        579       673\n",
       "campaign           1          1           1          1         2\n",
       "pdays             -1         -1          -1         -1        -1\n",
       "previous           0          0           0          0         0\n",
       "poutcome     unknown    unknown     unknown    unknown   unknown\n",
       "deposit          yes        yes         yes        yes       yes"
      ]
     },
     "execution_count": 5,
     "metadata": {},
     "output_type": "execute_result"
    }
   ],
   "source": [
    "import pandas as pd\n",
    "pd.DataFrame(df.take(5), columns=df.columns).transpose()"
   ]
  },
  {
   "cell_type": "markdown",
   "id": "8b73163a",
   "metadata": {},
   "source": [
    "Les deux classes sont parfaitement équilibrés:"
   ]
  },
  {
   "cell_type": "code",
   "execution_count": 6,
   "id": "b319554c",
   "metadata": {},
   "outputs": [
    {
     "data": {
      "text/html": [
       "<div>\n",
       "<style scoped>\n",
       "    .dataframe tbody tr th:only-of-type {\n",
       "        vertical-align: middle;\n",
       "    }\n",
       "\n",
       "    .dataframe tbody tr th {\n",
       "        vertical-align: top;\n",
       "    }\n",
       "\n",
       "    .dataframe thead th {\n",
       "        text-align: right;\n",
       "    }\n",
       "</style>\n",
       "<table border=\"1\" class=\"dataframe\">\n",
       "  <thead>\n",
       "    <tr style=\"text-align: right;\">\n",
       "      <th></th>\n",
       "      <th>deposit</th>\n",
       "      <th>count</th>\n",
       "    </tr>\n",
       "  </thead>\n",
       "  <tbody>\n",
       "    <tr>\n",
       "      <th>0</th>\n",
       "      <td>no</td>\n",
       "      <td>5873</td>\n",
       "    </tr>\n",
       "    <tr>\n",
       "      <th>1</th>\n",
       "      <td>yes</td>\n",
       "      <td>5289</td>\n",
       "    </tr>\n",
       "  </tbody>\n",
       "</table>\n",
       "</div>"
      ],
      "text/plain": [
       "  deposit  count\n",
       "0      no   5873\n",
       "1     yes   5289"
      ]
     },
     "execution_count": 6,
     "metadata": {},
     "output_type": "execute_result"
    }
   ],
   "source": [
    "df.groupby('deposit').count().toPandas()"
   ]
  },
  {
   "cell_type": "markdown",
   "id": "40d34336",
   "metadata": {},
   "source": [
    "### Summary statistics for numeric variables\n",
    "Cette commande affiche: **Count**, **mean** (la moyenne), **sddev** (l'écart-type), **min** et **max** des variables numériques:"
   ]
  },
  {
   "cell_type": "code",
   "execution_count": 7,
   "id": "856db68e",
   "metadata": {},
   "outputs": [
    {
     "data": {
      "text/html": [
       "<div>\n",
       "<style scoped>\n",
       "    .dataframe tbody tr th:only-of-type {\n",
       "        vertical-align: middle;\n",
       "    }\n",
       "\n",
       "    .dataframe tbody tr th {\n",
       "        vertical-align: top;\n",
       "    }\n",
       "\n",
       "    .dataframe thead th {\n",
       "        text-align: right;\n",
       "    }\n",
       "</style>\n",
       "<table border=\"1\" class=\"dataframe\">\n",
       "  <thead>\n",
       "    <tr style=\"text-align: right;\">\n",
       "      <th></th>\n",
       "      <th>0</th>\n",
       "      <th>1</th>\n",
       "      <th>2</th>\n",
       "      <th>3</th>\n",
       "      <th>4</th>\n",
       "    </tr>\n",
       "  </thead>\n",
       "  <tbody>\n",
       "    <tr>\n",
       "      <th>summary</th>\n",
       "      <td>count</td>\n",
       "      <td>mean</td>\n",
       "      <td>stddev</td>\n",
       "      <td>min</td>\n",
       "      <td>max</td>\n",
       "    </tr>\n",
       "    <tr>\n",
       "      <th>age</th>\n",
       "      <td>11162</td>\n",
       "      <td>41.231947679627304</td>\n",
       "      <td>11.913369192215518</td>\n",
       "      <td>18</td>\n",
       "      <td>95</td>\n",
       "    </tr>\n",
       "    <tr>\n",
       "      <th>balance</th>\n",
       "      <td>11162</td>\n",
       "      <td>1528.5385235620856</td>\n",
       "      <td>3225.413325946149</td>\n",
       "      <td>-6847</td>\n",
       "      <td>81204</td>\n",
       "    </tr>\n",
       "    <tr>\n",
       "      <th>day</th>\n",
       "      <td>11162</td>\n",
       "      <td>15.658036194230425</td>\n",
       "      <td>8.420739541006462</td>\n",
       "      <td>1</td>\n",
       "      <td>31</td>\n",
       "    </tr>\n",
       "    <tr>\n",
       "      <th>duration</th>\n",
       "      <td>11162</td>\n",
       "      <td>371.99381831213043</td>\n",
       "      <td>347.12838571630687</td>\n",
       "      <td>2</td>\n",
       "      <td>3881</td>\n",
       "    </tr>\n",
       "    <tr>\n",
       "      <th>campaign</th>\n",
       "      <td>11162</td>\n",
       "      <td>2.508421429851281</td>\n",
       "      <td>2.7220771816614824</td>\n",
       "      <td>1</td>\n",
       "      <td>63</td>\n",
       "    </tr>\n",
       "    <tr>\n",
       "      <th>pdays</th>\n",
       "      <td>11162</td>\n",
       "      <td>51.33040673714388</td>\n",
       "      <td>108.75828197197717</td>\n",
       "      <td>-1</td>\n",
       "      <td>854</td>\n",
       "    </tr>\n",
       "    <tr>\n",
       "      <th>previous</th>\n",
       "      <td>11162</td>\n",
       "      <td>0.8325568894463358</td>\n",
       "      <td>2.292007218670508</td>\n",
       "      <td>0</td>\n",
       "      <td>58</td>\n",
       "    </tr>\n",
       "  </tbody>\n",
       "</table>\n",
       "</div>"
      ],
      "text/plain": [
       "              0                   1                   2      3      4\n",
       "summary   count                mean              stddev    min    max\n",
       "age       11162  41.231947679627304  11.913369192215518     18     95\n",
       "balance   11162  1528.5385235620856   3225.413325946149  -6847  81204\n",
       "day       11162  15.658036194230425   8.420739541006462      1     31\n",
       "duration  11162  371.99381831213043  347.12838571630687      2   3881\n",
       "campaign  11162   2.508421429851281  2.7220771816614824      1     63\n",
       "pdays     11162   51.33040673714388  108.75828197197717     -1    854\n",
       "previous  11162  0.8325568894463358   2.292007218670508      0     58"
      ]
     },
     "execution_count": 7,
     "metadata": {},
     "output_type": "execute_result"
    }
   ],
   "source": [
    "numeric_features = [t[0] for t in df.dtypes if t[1] == 'int']\n",
    "df.select(numeric_features).describe().toPandas().transpose()"
   ]
  },
  {
   "cell_type": "markdown",
   "id": "1f4d73b3",
   "metadata": {},
   "source": [
    "### Visualisations "
   ]
  },
  {
   "cell_type": "code",
   "execution_count": 8,
   "id": "ef7b833e",
   "metadata": {},
   "outputs": [],
   "source": [
    "import pandas as pd\n",
    "import numpy as np\n",
    "from sklearn import preprocessing\n",
    "import matplotlib.pyplot as plt \n",
    "plt.rc(\"font\", size=14)\n",
    "from sklearn.linear_model import LogisticRegression\n",
    "from sklearn.model_selection import train_test_split\n",
    "import seaborn as sns\n",
    "sns.set(style=\"white\")\n",
    "sns.set(style=\"whitegrid\", color_codes=True)"
   ]
  },
  {
   "cell_type": "code",
   "execution_count": 9,
   "id": "f1c35fb2",
   "metadata": {},
   "outputs": [],
   "source": [
    "data  = pd.read_csv('bank.csv', header=0)"
   ]
  },
  {
   "cell_type": "code",
   "execution_count": 10,
   "id": "09942a31",
   "metadata": {},
   "outputs": [
    {
     "name": "stdout",
     "output_type": "stream",
     "text": [
      "(11162, 17)\n"
     ]
    }
   ],
   "source": [
    "print(data.shape)"
   ]
  },
  {
   "cell_type": "code",
   "execution_count": 11,
   "id": "ea836dd0",
   "metadata": {},
   "outputs": [
    {
     "data": {
      "image/png": "[encoded data removed]",
      "text/plain": [
       "<Figure size 432x288 with 1 Axes>"
      ]
     },
     "metadata": {},
     "output_type": "display_data"
    },
    {
     "data": {
      "text/plain": [
       "<Figure size 432x288 with 0 Axes>"
      ]
     },
     "metadata": {},
     "output_type": "display_data"
    }
   ],
   "source": [
    "sns.countplot(x='deposit', data=data, palette='hls')\n",
    "plt.show()\n",
    "plt.savefig('count_plot')"
   ]
  },
  {
   "cell_type": "code",
   "execution_count": 12,
   "id": "075a7272",
   "metadata": {},
   "outputs": [
    {
     "data": {
      "image/png": "[encoded data removed]",
      "text/plain": [
       "<Figure size 432x288 with 1 Axes>"
      ]
     },
     "metadata": {
      "needs_background": "light"
     },
     "output_type": "display_data"
    }
   ],
   "source": [
    "%matplotlib inline\n",
    "pd.crosstab(data.job,data.deposit).plot(kind='bar')\n",
    "plt.title('Purchase Frequency for Job Title')\n",
    "plt.xlabel('Job')\n",
    "plt.ylabel('Frequency of Purchase')\n",
    "plt.savefig('purchase_fre_job')"
   ]
  },
  {
   "cell_type": "markdown",
   "id": "2083ad4c",
   "metadata": {},
   "source": [
    "La fréquence d'achat dépend beaucoup de l'intitulé du poste. Ainsi, le titre du poste peut être un bon prédicteur de la variable de résultat."
   ]
  },
  {
   "cell_type": "code",
   "execution_count": 13,
   "id": "95b76e9c",
   "metadata": {},
   "outputs": [
    {
     "data": {
      "image/png": "[encoded data removed]",
      "text/plain": [
       "<Figure size 432x288 with 1 Axes>"
      ]
     },
     "metadata": {
      "needs_background": "light"
     },
     "output_type": "display_data"
    }
   ],
   "source": [
    "table=pd.crosstab(data.marital,data.deposit)\n",
    "table.div(table.sum(1).astype(float), axis=0).plot(kind='bar', stacked=True)\n",
    "plt.title('Stacked Bar Chart of Marital Status vs Purchase')\n",
    "plt.xlabel('Marital Status')\n",
    "plt.ylabel('Proportion of Customers')\n",
    "plt.savefig('mariral_vs_pur_stack')"
   ]
  },
  {
   "cell_type": "markdown",
   "id": "1e13dd1c",
   "metadata": {},
   "source": [
    "Le statut social ne semble pas un prédicteur fort pour la variable de résultat."
   ]
  },
  {
   "cell_type": "code",
   "execution_count": 14,
   "id": "fde8d3b8",
   "metadata": {},
   "outputs": [
    {
     "data": {
      "image/png": "[encoded data removed]",
      "text/plain": [
       "<Figure size 432x288 with 1 Axes>"
      ]
     },
     "metadata": {
      "needs_background": "light"
     },
     "output_type": "display_data"
    }
   ],
   "source": [
    "table=pd.crosstab(data.education,data.deposit)\n",
    "table.div(table.sum(1).astype(float), axis=0).plot(kind='bar', stacked=True)\n",
    "plt.title('Stacked Bar Chart of Education vs Purchase')\n",
    "plt.xlabel('Education')\n",
    "plt.ylabel('Proportion of Customers')\n",
    "plt.savefig('edu_vs_pur_stack')"
   ]
  },
  {
   "cell_type": "markdown",
   "id": "d72f4c35",
   "metadata": {},
   "source": [
    "L'éducation semble être un bon prédicteur de la variable de résultat."
   ]
  },
  {
   "cell_type": "code",
   "execution_count": 15,
   "id": "ccfa5dc0",
   "metadata": {},
   "outputs": [
    {
     "data": {
      "image/png": "[encoded data removed]",
      "text/plain": [
       "<Figure size 432x288 with 1 Axes>"
      ]
     },
     "metadata": {
      "needs_background": "light"
     },
     "output_type": "display_data"
    }
   ],
   "source": [
    "pd.crosstab(data.day,data.deposit).plot(kind='bar')\n",
    "plt.title('Purchase Frequency for Day of Week')\n",
    "plt.xlabel('Day of Week')\n",
    "plt.ylabel('Frequency of Purchase')\n",
    "plt.savefig('pur_dayofweek_bar')"
   ]
  },
  {
   "cell_type": "markdown",
   "id": "3ca8ee12",
   "metadata": {},
   "source": [
    "Le jour de la semaine peut ne pas être un bon prédicteur du résultat."
   ]
  },
  {
   "cell_type": "code",
   "execution_count": 16,
   "id": "d2d27468",
   "metadata": {},
   "outputs": [
    {
     "data": {
      "image/png": "[encoded data removed]",
      "text/plain": [
       "<Figure size 432x288 with 1 Axes>"
      ]
     },
     "metadata": {
      "needs_background": "light"
     },
     "output_type": "display_data"
    }
   ],
   "source": [
    "pd.crosstab(data.month,data.deposit).plot(kind='bar')\n",
    "plt.title('Purchase Frequency for Month')\n",
    "plt.xlabel('Month')\n",
    "plt.ylabel('Frequency of Purchase')\n",
    "plt.savefig('pur_fre_month_bar')"
   ]
  },
  {
   "cell_type": "markdown",
   "id": "b8d1ecce",
   "metadata": {},
   "source": [
    "Le mois peut être un bon prédicteur de la variable de résultat."
   ]
  },
  {
   "cell_type": "code",
   "execution_count": 17,
   "id": "15b86887",
   "metadata": {},
   "outputs": [
    {
     "data": {
      "image/png": "[encoded data removed]",
      "text/plain": [
       "<Figure size 432x288 with 1 Axes>"
      ]
     },
     "metadata": {
      "needs_background": "light"
     },
     "output_type": "display_data"
    }
   ],
   "source": [
    "data.age.hist()\n",
    "plt.title('Histogram of Age')\n",
    "plt.xlabel('Age')\n",
    "plt.ylabel('Frequency')\n",
    "plt.savefig('hist_age')"
   ]
  },
  {
   "cell_type": "markdown",
   "id": "44fc9ffa",
   "metadata": {},
   "source": [
    "La plupart des clients de la banque dans cet ensemble de données ont entre 30 et 40 ans."
   ]
  },
  {
   "cell_type": "code",
   "execution_count": 18,
   "id": "0e1fcbbf",
   "metadata": {},
   "outputs": [
    {
     "data": {
      "image/png": "[encoded data removed]",
      "text/plain": [
       "<Figure size 432x288 with 1 Axes>"
      ]
     },
     "metadata": {
      "needs_background": "light"
     },
     "output_type": "display_data"
    }
   ],
   "source": [
    "pd.crosstab(data.poutcome,data.deposit).plot(kind='bar')\n",
    "plt.title('Purchase Frequency for Poutcome')\n",
    "plt.xlabel('Poutcome')\n",
    "plt.ylabel('Frequency of Purchase')\n",
    "plt.savefig('pur_fre_pout_bar')"
   ]
  },
  {
   "cell_type": "markdown",
   "id": "e3b599e3",
   "metadata": {},
   "source": [
    "Poutcome semble être un bon prédicteur de la variable de résultat."
   ]
  },
  {
   "cell_type": "markdown",
   "id": "ed5f249b",
   "metadata": {},
   "source": [
    "### Corrélations entre les variables indépendantes"
   ]
  },
  {
   "cell_type": "code",
   "execution_count": 19,
   "id": "045ef10c",
   "metadata": {},
   "outputs": [
    {
     "data": {
      "image/png": "[encoded data removed]",
      "text/plain": [
       "<Figure size 576x576 with 49 Axes>"
      ]
     },
     "metadata": {
      "needs_background": "light"
     },
     "output_type": "display_data"
    }
   ],
   "source": [
    "numeric_data = df.select(numeric_features).toPandas()\n",
    "\n",
    "axs = pd.plotting.scatter_matrix(numeric_data, figsize=(8, 8));\n",
    "\n",
    "# Rotate axis labels and remove axis ticks\n",
    "n = len(numeric_data.columns)\n",
    "for i in range(n):\n",
    "    v = axs[i, 0]\n",
    "    v.yaxis.label.set_rotation(0)\n",
    "    v.yaxis.label.set_ha('right')\n",
    "    v.set_yticks(())\n",
    "    h = axs[n-1, i]\n",
    "    h.xaxis.label.set_rotation(90)\n",
    "    h.set_xticks(())"
   ]
  },
  {
   "cell_type": "markdown",
   "id": "e0207e1d",
   "metadata": {},
   "source": [
    "Il est évident qu'il n'y a pas de variables numériques fortement corrélées. Par conséquent, nous les conserverons tous pour le modèle. Cependant, les colonnes day et month ne sont pas vraiment utiles, nous allons supprimer ces deux colonnes."
   ]
  },
  {
   "cell_type": "code",
   "execution_count": 20,
   "id": "80df9d69",
   "metadata": {},
   "outputs": [
    {
     "name": "stdout",
     "output_type": "stream",
     "text": [
      "root\n",
      " |-- age: integer (nullable = true)\n",
      " |-- job: string (nullable = true)\n",
      " |-- marital: string (nullable = true)\n",
      " |-- education: string (nullable = true)\n",
      " |-- default: string (nullable = true)\n",
      " |-- balance: integer (nullable = true)\n",
      " |-- housing: string (nullable = true)\n",
      " |-- loan: string (nullable = true)\n",
      " |-- contact: string (nullable = true)\n",
      " |-- duration: integer (nullable = true)\n",
      " |-- campaign: integer (nullable = true)\n",
      " |-- pdays: integer (nullable = true)\n",
      " |-- previous: integer (nullable = true)\n",
      " |-- poutcome: string (nullable = true)\n",
      " |-- deposit: string (nullable = true)\n",
      "\n"
     ]
    }
   ],
   "source": [
    "df = df.select('age', 'job', 'marital', 'education', 'default', 'balance', 'housing', 'loan', 'contact', 'duration', 'campaign', 'pdays', 'previous', 'poutcome', 'deposit')\n",
    "cols = df.columns\n",
    "df.printSchema()"
   ]
  },
  {
   "cell_type": "markdown",
   "id": "c32b9e6e",
   "metadata": {},
   "source": [
    "# Preparing Data for Machine Learning"
   ]
  },
  {
   "cell_type": "markdown",
   "id": "8fed8496",
   "metadata": {},
   "source": [
    "Le processus comprend le **Category Indexing**, **One-Hot Encoding** et **VectorAssembler**, un transformateur de fonctionnalités qui fusionne plusieurs colonnes en une colonne vectorielle."
   ]
  },
  {
   "cell_type": "code",
   "execution_count": 21,
   "id": "80e4f934",
   "metadata": {},
   "outputs": [],
   "source": [
    "from pyspark.ml.feature import OneHotEncoder, StringIndexer, VectorAssembler\n",
    "\n",
    "categoricalColumns = ['job', 'marital', 'education', 'default', 'housing', 'loan', 'contact', 'poutcome']\n",
    "stages = []\n",
    "\n",
    "for categoricalCol in categoricalColumns:\n",
    "    stringIndexer = StringIndexer(inputCol = categoricalCol, outputCol = categoricalCol + 'Index')\n",
    "    encoder = OneHotEncoder(inputCols=[stringIndexer.getOutputCol()], outputCols=[categoricalCol + \"classVec\"])\n",
    "    stages += [stringIndexer, encoder]\n",
    "\n",
    "label_stringIdx = StringIndexer(inputCol = 'deposit', outputCol = 'label')\n",
    "stages += [label_stringIdx]\n",
    "\n",
    "numericCols = ['age', 'balance', 'duration', 'campaign', 'pdays', 'previous']\n",
    "assemblerInputs = [c + \"classVec\" for c in categoricalColumns] + numericCols\n",
    "assembler = VectorAssembler(inputCols=assemblerInputs, outputCol=\"features\")\n",
    "stages += [assembler]"
   ]
  },
  {
   "cell_type": "markdown",
   "id": "4d9e80e8",
   "metadata": {},
   "source": [
    "Le code ci-dessus est extrait du site officiel de **Databricks**: https://docs.databricks.com/applications/machine-learning/train-model/mllib/index.html#binary-classification-example"
   ]
  },
  {
   "cell_type": "markdown",
   "id": "a86d3a61",
   "metadata": {},
   "source": [
    "# Pipeline"
   ]
  },
  {
   "cell_type": "markdown",
   "id": "8a6683e6",
   "metadata": {},
   "source": [
    "Nous utilisons Pipeline pour chaîner plusieurs transformateurs et estimateurs afin de spécifier notre flux de travail d'apprentissage automatique. Les étapes d'un Pipeline sont spécifiées sous la forme d'un tableau ordonné."
   ]
  },
  {
   "cell_type": "code",
   "execution_count": 22,
   "id": "20179ee2",
   "metadata": {},
   "outputs": [
    {
     "name": "stdout",
     "output_type": "stream",
     "text": [
      "root\n",
      " |-- label: double (nullable = false)\n",
      " |-- features: vector (nullable = true)\n",
      " |-- age: integer (nullable = true)\n",
      " |-- job: string (nullable = true)\n",
      " |-- marital: string (nullable = true)\n",
      " |-- education: string (nullable = true)\n",
      " |-- default: string (nullable = true)\n",
      " |-- balance: integer (nullable = true)\n",
      " |-- housing: string (nullable = true)\n",
      " |-- loan: string (nullable = true)\n",
      " |-- contact: string (nullable = true)\n",
      " |-- duration: integer (nullable = true)\n",
      " |-- campaign: integer (nullable = true)\n",
      " |-- pdays: integer (nullable = true)\n",
      " |-- previous: integer (nullable = true)\n",
      " |-- poutcome: string (nullable = true)\n",
      " |-- deposit: string (nullable = true)\n",
      "\n"
     ]
    }
   ],
   "source": [
    "from pyspark.ml import Pipeline\n",
    "pipeline = Pipeline(stages = stages)\n",
    "pipelineModel = pipeline.fit(df)\n",
    "df = pipelineModel.transform(df)\n",
    "selectedCols = ['label', 'features'] + cols\n",
    "df = df.select(selectedCols)\n",
    "df.printSchema()"
   ]
  },
  {
   "cell_type": "code",
   "execution_count": 23,
   "id": "eb0d9423",
   "metadata": {},
   "outputs": [
    {
     "data": {
      "text/html": [
       "<div>\n",
       "<style scoped>\n",
       "    .dataframe tbody tr th:only-of-type {\n",
       "        vertical-align: middle;\n",
       "    }\n",
       "\n",
       "    .dataframe tbody tr th {\n",
       "        vertical-align: top;\n",
       "    }\n",
       "\n",
       "    .dataframe thead th {\n",
       "        text-align: right;\n",
       "    }\n",
       "</style>\n",
       "<table border=\"1\" class=\"dataframe\">\n",
       "  <thead>\n",
       "    <tr style=\"text-align: right;\">\n",
       "      <th></th>\n",
       "      <th>0</th>\n",
       "      <th>1</th>\n",
       "      <th>2</th>\n",
       "      <th>3</th>\n",
       "      <th>4</th>\n",
       "    </tr>\n",
       "  </thead>\n",
       "  <tbody>\n",
       "    <tr>\n",
       "      <th>label</th>\n",
       "      <td>1.0</td>\n",
       "      <td>1.0</td>\n",
       "      <td>1.0</td>\n",
       "      <td>1.0</td>\n",
       "      <td>1.0</td>\n",
       "    </tr>\n",
       "    <tr>\n",
       "      <th>features</th>\n",
       "      <td>(0.0, 0.0, 0.0, 1.0, 0.0, 0.0, 0.0, 0.0, 0.0, ...</td>\n",
       "      <td>(0.0, 0.0, 0.0, 1.0, 0.0, 0.0, 0.0, 0.0, 0.0, ...</td>\n",
       "      <td>(0.0, 0.0, 1.0, 0.0, 0.0, 0.0, 0.0, 0.0, 0.0, ...</td>\n",
       "      <td>(0.0, 0.0, 0.0, 0.0, 1.0, 0.0, 0.0, 0.0, 0.0, ...</td>\n",
       "      <td>(0.0, 0.0, 0.0, 1.0, 0.0, 0.0, 0.0, 0.0, 0.0, ...</td>\n",
       "    </tr>\n",
       "    <tr>\n",
       "      <th>age</th>\n",
       "      <td>59</td>\n",
       "      <td>56</td>\n",
       "      <td>41</td>\n",
       "      <td>55</td>\n",
       "      <td>54</td>\n",
       "    </tr>\n",
       "    <tr>\n",
       "      <th>job</th>\n",
       "      <td>admin.</td>\n",
       "      <td>admin.</td>\n",
       "      <td>technician</td>\n",
       "      <td>services</td>\n",
       "      <td>admin.</td>\n",
       "    </tr>\n",
       "    <tr>\n",
       "      <th>marital</th>\n",
       "      <td>married</td>\n",
       "      <td>married</td>\n",
       "      <td>married</td>\n",
       "      <td>married</td>\n",
       "      <td>married</td>\n",
       "    </tr>\n",
       "    <tr>\n",
       "      <th>education</th>\n",
       "      <td>secondary</td>\n",
       "      <td>secondary</td>\n",
       "      <td>secondary</td>\n",
       "      <td>secondary</td>\n",
       "      <td>tertiary</td>\n",
       "    </tr>\n",
       "    <tr>\n",
       "      <th>default</th>\n",
       "      <td>no</td>\n",
       "      <td>no</td>\n",
       "      <td>no</td>\n",
       "      <td>no</td>\n",
       "      <td>no</td>\n",
       "    </tr>\n",
       "    <tr>\n",
       "      <th>balance</th>\n",
       "      <td>2343</td>\n",
       "      <td>45</td>\n",
       "      <td>1270</td>\n",
       "      <td>2476</td>\n",
       "      <td>184</td>\n",
       "    </tr>\n",
       "    <tr>\n",
       "      <th>housing</th>\n",
       "      <td>yes</td>\n",
       "      <td>no</td>\n",
       "      <td>yes</td>\n",
       "      <td>yes</td>\n",
       "      <td>no</td>\n",
       "    </tr>\n",
       "    <tr>\n",
       "      <th>loan</th>\n",
       "      <td>no</td>\n",
       "      <td>no</td>\n",
       "      <td>no</td>\n",
       "      <td>no</td>\n",
       "      <td>no</td>\n",
       "    </tr>\n",
       "    <tr>\n",
       "      <th>contact</th>\n",
       "      <td>unknown</td>\n",
       "      <td>unknown</td>\n",
       "      <td>unknown</td>\n",
       "      <td>unknown</td>\n",
       "      <td>unknown</td>\n",
       "    </tr>\n",
       "    <tr>\n",
       "      <th>duration</th>\n",
       "      <td>1042</td>\n",
       "      <td>1467</td>\n",
       "      <td>1389</td>\n",
       "      <td>579</td>\n",
       "      <td>673</td>\n",
       "    </tr>\n",
       "    <tr>\n",
       "      <th>campaign</th>\n",
       "      <td>1</td>\n",
       "      <td>1</td>\n",
       "      <td>1</td>\n",
       "      <td>1</td>\n",
       "      <td>2</td>\n",
       "    </tr>\n",
       "    <tr>\n",
       "      <th>pdays</th>\n",
       "      <td>-1</td>\n",
       "      <td>-1</td>\n",
       "      <td>-1</td>\n",
       "      <td>-1</td>\n",
       "      <td>-1</td>\n",
       "    </tr>\n",
       "    <tr>\n",
       "      <th>previous</th>\n",
       "      <td>0</td>\n",
       "      <td>0</td>\n",
       "      <td>0</td>\n",
       "      <td>0</td>\n",
       "      <td>0</td>\n",
       "    </tr>\n",
       "    <tr>\n",
       "      <th>poutcome</th>\n",
       "      <td>unknown</td>\n",
       "      <td>unknown</td>\n",
       "      <td>unknown</td>\n",
       "      <td>unknown</td>\n",
       "      <td>unknown</td>\n",
       "    </tr>\n",
       "    <tr>\n",
       "      <th>deposit</th>\n",
       "      <td>yes</td>\n",
       "      <td>yes</td>\n",
       "      <td>yes</td>\n",
       "      <td>yes</td>\n",
       "      <td>yes</td>\n",
       "    </tr>\n",
       "  </tbody>\n",
       "</table>\n",
       "</div>"
      ],
      "text/plain": [
       "                                                           0  \\\n",
       "label                                                    1.0   \n",
       "features   (0.0, 0.0, 0.0, 1.0, 0.0, 0.0, 0.0, 0.0, 0.0, ...   \n",
       "age                                                       59   \n",
       "job                                                   admin.   \n",
       "marital                                              married   \n",
       "education                                          secondary   \n",
       "default                                                   no   \n",
       "balance                                                 2343   \n",
       "housing                                                  yes   \n",
       "loan                                                      no   \n",
       "contact                                              unknown   \n",
       "duration                                                1042   \n",
       "campaign                                                   1   \n",
       "pdays                                                     -1   \n",
       "previous                                                   0   \n",
       "poutcome                                             unknown   \n",
       "deposit                                                  yes   \n",
       "\n",
       "                                                           1  \\\n",
       "label                                                    1.0   \n",
       "features   (0.0, 0.0, 0.0, 1.0, 0.0, 0.0, 0.0, 0.0, 0.0, ...   \n",
       "age                                                       56   \n",
       "job                                                   admin.   \n",
       "marital                                              married   \n",
       "education                                          secondary   \n",
       "default                                                   no   \n",
       "balance                                                   45   \n",
       "housing                                                   no   \n",
       "loan                                                      no   \n",
       "contact                                              unknown   \n",
       "duration                                                1467   \n",
       "campaign                                                   1   \n",
       "pdays                                                     -1   \n",
       "previous                                                   0   \n",
       "poutcome                                             unknown   \n",
       "deposit                                                  yes   \n",
       "\n",
       "                                                           2  \\\n",
       "label                                                    1.0   \n",
       "features   (0.0, 0.0, 1.0, 0.0, 0.0, 0.0, 0.0, 0.0, 0.0, ...   \n",
       "age                                                       41   \n",
       "job                                               technician   \n",
       "marital                                              married   \n",
       "education                                          secondary   \n",
       "default                                                   no   \n",
       "balance                                                 1270   \n",
       "housing                                                  yes   \n",
       "loan                                                      no   \n",
       "contact                                              unknown   \n",
       "duration                                                1389   \n",
       "campaign                                                   1   \n",
       "pdays                                                     -1   \n",
       "previous                                                   0   \n",
       "poutcome                                             unknown   \n",
       "deposit                                                  yes   \n",
       "\n",
       "                                                           3  \\\n",
       "label                                                    1.0   \n",
       "features   (0.0, 0.0, 0.0, 0.0, 1.0, 0.0, 0.0, 0.0, 0.0, ...   \n",
       "age                                                       55   \n",
       "job                                                 services   \n",
       "marital                                              married   \n",
       "education                                          secondary   \n",
       "default                                                   no   \n",
       "balance                                                 2476   \n",
       "housing                                                  yes   \n",
       "loan                                                      no   \n",
       "contact                                              unknown   \n",
       "duration                                                 579   \n",
       "campaign                                                   1   \n",
       "pdays                                                     -1   \n",
       "previous                                                   0   \n",
       "poutcome                                             unknown   \n",
       "deposit                                                  yes   \n",
       "\n",
       "                                                           4  \n",
       "label                                                    1.0  \n",
       "features   (0.0, 0.0, 0.0, 1.0, 0.0, 0.0, 0.0, 0.0, 0.0, ...  \n",
       "age                                                       54  \n",
       "job                                                   admin.  \n",
       "marital                                              married  \n",
       "education                                           tertiary  \n",
       "default                                                   no  \n",
       "balance                                                  184  \n",
       "housing                                                   no  \n",
       "loan                                                      no  \n",
       "contact                                              unknown  \n",
       "duration                                                 673  \n",
       "campaign                                                   2  \n",
       "pdays                                                     -1  \n",
       "previous                                                   0  \n",
       "poutcome                                             unknown  \n",
       "deposit                                                  yes  "
      ]
     },
     "execution_count": 23,
     "metadata": {},
     "output_type": "execute_result"
    }
   ],
   "source": [
    "pd.DataFrame(df.take(5), columns=df.columns).transpose()"
   ]
  },
  {
   "cell_type": "markdown",
   "id": "0a73754b",
   "metadata": {},
   "source": [
    " Nous avons maintenant une colonne de caractéristiques (**features**) et une colonne d'étiquette (**Label**)."
   ]
  },
  {
   "cell_type": "markdown",
   "id": "46d046c9",
   "metadata": {},
   "source": [
    "Nous avona divisé le jeu de données en 2 parties: Une partie pour **l'entrainement** (70%) et une partie pour **le test** (30%):"
   ]
  },
  {
   "cell_type": "code",
   "execution_count": 24,
   "id": "839a99ac",
   "metadata": {},
   "outputs": [
    {
     "name": "stdout",
     "output_type": "stream",
     "text": [
      "Training Dataset Count: 7855\n",
      "Test Dataset Count: 3307\n"
     ]
    }
   ],
   "source": [
    "train, test = df.randomSplit([0.7, 0.3], seed = 2018)\n",
    "print(\"Training Dataset Count: \" + str(train.count()))\n",
    "print(\"Test Dataset Count: \" + str(test.count()))"
   ]
  },
  {
   "cell_type": "markdown",
   "id": "ca8f8c3b",
   "metadata": {},
   "source": [
    "# Modèle de régression logistique"
   ]
  },
  {
   "cell_type": "code",
   "execution_count": 25,
   "id": "edbe96db",
   "metadata": {},
   "outputs": [],
   "source": [
    "from pyspark.ml.classification import LogisticRegression\n",
    "\n",
    "lr = LogisticRegression(featuresCol = 'features', labelCol = 'label', maxIter=10)\n",
    "lrModel = lr.fit(train)"
   ]
  },
  {
   "cell_type": "markdown",
   "id": "20fbc1f0",
   "metadata": {},
   "source": [
    "Nous pouvons obtenir les coefficients en utilisant les attributs de LogisticRegressionModel."
   ]
  },
  {
   "cell_type": "code",
   "execution_count": 26,
   "id": "e68ac4de",
   "metadata": {},
   "outputs": [
    {
     "data": {
      "image/png": "[encoded data removed]",
      "text/plain": [
       "<Figure size 432x288 with 1 Axes>"
      ]
     },
     "metadata": {
      "needs_background": "light"
     },
     "output_type": "display_data"
    }
   ],
   "source": [
    "import matplotlib.pyplot as plt\n",
    "import numpy as np\n",
    "\n",
    "beta = np.sort(lrModel.coefficients)\n",
    "\n",
    "plt.plot(beta)\n",
    "plt.ylabel('Beta Coefficients')\n",
    "plt.show()"
   ]
  },
  {
   "cell_type": "markdown",
   "id": "c054bf12",
   "metadata": {},
   "source": [
    "Nous pouvons également obtenir le **receiver-operating characteristic** et **areaUnderROC**."
   ]
  },
  {
   "cell_type": "code",
   "execution_count": 27,
   "id": "dd3bb408",
   "metadata": {},
   "outputs": [
    {
     "data": {
      "image/png": "[encoded data removed]",
      "text/plain": [
       "<Figure size 432x288 with 1 Axes>"
      ]
     },
     "metadata": {
      "needs_background": "light"
     },
     "output_type": "display_data"
    },
    {
     "name": "stdout",
     "output_type": "stream",
     "text": [
      "Training set areaUnderROC: 0.8865551189326405\n"
     ]
    }
   ],
   "source": [
    "trainingSummary = lrModel.summary\n",
    "\n",
    "roc = trainingSummary.roc.toPandas()\n",
    "plt.plot(roc['FPR'],roc['TPR'])\n",
    "plt.ylabel('False Positive Rate')\n",
    "plt.xlabel('True Positive Rate')\n",
    "plt.title('ROC Curve')\n",
    "plt.show()\n",
    "\n",
    "print('Training set areaUnderROC: ' + str(trainingSummary.areaUnderROC))"
   ]
  },
  {
   "cell_type": "markdown",
   "id": "b10ce0eb",
   "metadata": {},
   "source": [
    "### Precision and recall"
   ]
  },
  {
   "cell_type": "code",
   "execution_count": 28,
   "id": "d28d81cb",
   "metadata": {},
   "outputs": [
    {
     "data": {
      "image/png": "[encoded data removed]",
      "text/plain": [
       "<Figure size 432x288 with 1 Axes>"
      ]
     },
     "metadata": {
      "needs_background": "light"
     },
     "output_type": "display_data"
    }
   ],
   "source": [
    "pr = trainingSummary.pr.toPandas()\n",
    "plt.plot(pr['recall'],pr['precision'])\n",
    "plt.ylabel('Precision')\n",
    "plt.xlabel('Recall')\n",
    "plt.show()"
   ]
  },
  {
   "cell_type": "markdown",
   "id": "e844bda8",
   "metadata": {},
   "source": [
    "### Faire des prédictions sur l'ensemble de test "
   ]
  },
  {
   "cell_type": "code",
   "execution_count": 29,
   "id": "a7b7c912",
   "metadata": {},
   "outputs": [
    {
     "name": "stdout",
     "output_type": "stream",
     "text": [
      "+---+----------+-----+--------------------+----------+--------------------+\n",
      "|age|       job|label|       rawPrediction|prediction|         probability|\n",
      "+---+----------+-----+--------------------+----------+--------------------+\n",
      "| 33|management|  0.0|[1.93500470498079...|       0.0|[0.87380233100701...|\n",
      "| 49|management|  0.0|[2.04809361205496...|       0.0|[0.88575484704982...|\n",
      "| 52|management|  0.0|[-0.7002122133357...|       1.0|[0.33176517908283...|\n",
      "| 53|management|  0.0|[1.03431610227357...|       0.0|[0.73775180622517...|\n",
      "| 58|management|  0.0|[2.74273671692568...|       0.0|[0.93950183380104...|\n",
      "| 32|management|  0.0|[1.25033004378244...|       0.0|[0.77735698810451...|\n",
      "| 57|management|  0.0|[1.19540519867323...|       0.0|[0.76770638557283...|\n",
      "| 52|management|  0.0|[3.26456982709641...|       0.0|[0.96319314409492...|\n",
      "| 46|management|  0.0|[2.15036209979036...|       0.0|[0.89570260888977...|\n",
      "| 31|management|  0.0|[1.47751802200862...|       0.0|[0.81419739986183...|\n",
      "+---+----------+-----+--------------------+----------+--------------------+\n",
      "only showing top 10 rows\n",
      "\n"
     ]
    }
   ],
   "source": [
    "predictions = lrModel.transform(test)\n",
    "predictions.select('age', 'job', 'label', 'rawPrediction', 'prediction', 'probability').show(10)"
   ]
  },
  {
   "cell_type": "markdown",
   "id": "dc6b17ef",
   "metadata": {},
   "source": [
    "### Évaluez notre modèle de régression logistique"
   ]
  },
  {
   "cell_type": "code",
   "execution_count": 30,
   "id": "d0309611",
   "metadata": {},
   "outputs": [
    {
     "name": "stdout",
     "output_type": "stream",
     "text": [
      "Test Area Under ROC 0.8837112925002687\n"
     ]
    }
   ],
   "source": [
    "from pyspark.ml.evaluation import BinaryClassificationEvaluator\n",
    "\n",
    "evaluator = BinaryClassificationEvaluator()\n",
    "print('Test Area Under ROC', evaluator.evaluate(predictions))"
   ]
  },
  {
   "cell_type": "markdown",
   "id": "7b3ce8e9",
   "metadata": {},
   "source": [
    "# Decision Tree Classifier"
   ]
  },
  {
   "cell_type": "markdown",
   "id": "6bb9863c",
   "metadata": {},
   "source": [
    "Les arbres de décision sont largement utilisés car ils sont faciles à interpréter, gèrent les caractéristiques catégorielles, s'étendent à la classification multiclasse, ne nécessitent pas de mise à l'échelle des caractéristiques et sont capables de capturer les non-linéarités et les interactions de caractéristiques."
   ]
  },
  {
   "cell_type": "code",
   "execution_count": 31,
   "id": "6c9f967c",
   "metadata": {},
   "outputs": [
    {
     "name": "stdout",
     "output_type": "stream",
     "text": [
      "+---+----------+-----+--------------+----------+--------------------+\n",
      "|age|       job|label| rawPrediction|prediction|         probability|\n",
      "+---+----------+-----+--------------+----------+--------------------+\n",
      "| 33|management|  0.0|[2498.0,481.0]|       0.0|[0.83853642161799...|\n",
      "| 49|management|  0.0|[2498.0,481.0]|       0.0|[0.83853642161799...|\n",
      "| 52|management|  0.0|[520.0,1931.0]|       1.0|[0.21215830273357...|\n",
      "| 53|management|  0.0|[2498.0,481.0]|       0.0|[0.83853642161799...|\n",
      "| 58|management|  0.0|[2498.0,481.0]|       0.0|[0.83853642161799...|\n",
      "| 32|management|  0.0|[2498.0,481.0]|       0.0|[0.83853642161799...|\n",
      "| 57|management|  0.0|[2498.0,481.0]|       0.0|[0.83853642161799...|\n",
      "| 52|management|  0.0|[2498.0,481.0]|       0.0|[0.83853642161799...|\n",
      "| 46|management|  0.0|[2498.0,481.0]|       0.0|[0.83853642161799...|\n",
      "| 31|management|  0.0|[2498.0,481.0]|       0.0|[0.83853642161799...|\n",
      "+---+----------+-----+--------------+----------+--------------------+\n",
      "only showing top 10 rows\n",
      "\n"
     ]
    }
   ],
   "source": [
    "from pyspark.ml.classification import DecisionTreeClassifier\n",
    "dt = DecisionTreeClassifier(featuresCol = 'features', labelCol = 'label', maxDepth = 3)\n",
    "dtModel = dt.fit(train)\n",
    "predictions = dtModel.transform(test)\n",
    "predictions.select('age', 'job', 'label', 'rawPrediction', 'prediction', 'probability').show(10)"
   ]
  },
  {
   "cell_type": "markdown",
   "id": "d24fa338",
   "metadata": {},
   "source": [
    "### Évaluez notre modèle d'arbre de décision"
   ]
  },
  {
   "cell_type": "code",
   "execution_count": 32,
   "id": "6c409682",
   "metadata": {},
   "outputs": [
    {
     "name": "stdout",
     "output_type": "stream",
     "text": [
      "Test Area Under ROC: 0.7808118726917547\n"
     ]
    }
   ],
   "source": [
    "evaluator = BinaryClassificationEvaluator()\n",
    "print(\"Test Area Under ROC: \" + str(evaluator.evaluate(predictions, {evaluator.metricName: \"areaUnderROC\"})))"
   ]
  },
  {
   "cell_type": "markdown",
   "id": "afa97c19",
   "metadata": {},
   "source": [
    "Un arbre de décision simple a mal fonctionné car il est trop faible. La précision de prédiction des arbres de décision peut être améliorée par differents méthodes telles que **Random Forest** et **Gradient-Boosted Tree**."
   ]
  },
  {
   "cell_type": "markdown",
   "id": "9a73dfe6",
   "metadata": {},
   "source": [
    "# Random Forest Classifier"
   ]
  },
  {
   "cell_type": "code",
   "execution_count": 33,
   "id": "a398dcf1",
   "metadata": {},
   "outputs": [
    {
     "name": "stdout",
     "output_type": "stream",
     "text": [
      "+---+----------+-----+--------------------+----------+--------------------+\n",
      "|age|       job|label|       rawPrediction|prediction|         probability|\n",
      "+---+----------+-----+--------------------+----------+--------------------+\n",
      "| 33|management|  0.0|[13.3319994510978...|       0.0|[0.66659997255489...|\n",
      "| 49|management|  0.0|[12.8274882120090...|       0.0|[0.64137441060045...|\n",
      "| 52|management|  0.0|[7.51139490276589...|       1.0|[0.37556974513829...|\n",
      "| 53|management|  0.0|[11.7913876191042...|       0.0|[0.58956938095521...|\n",
      "| 58|management|  0.0|[14.2737109939265...|       0.0|[0.71368554969632...|\n",
      "| 32|management|  0.0|[13.8512305758578...|       0.0|[0.69256152879289...|\n",
      "| 57|management|  0.0|[13.7311667026663...|       0.0|[0.68655833513331...|\n",
      "| 52|management|  0.0|[16.5516422079630...|       0.0|[0.82758211039815...|\n",
      "| 46|management|  0.0|[16.6564667517940...|       0.0|[0.83282333758970...|\n",
      "| 31|management|  0.0|[13.2196082553671...|       0.0|[0.66098041276835...|\n",
      "+---+----------+-----+--------------------+----------+--------------------+\n",
      "only showing top 10 rows\n",
      "\n"
     ]
    }
   ],
   "source": [
    "from pyspark.ml.classification import RandomForestClassifier\n",
    "rf = RandomForestClassifier(featuresCol = 'features', labelCol = 'label')\n",
    "rfModel = rf.fit(train)\n",
    "predictions = rfModel.transform(test)\n",
    "predictions.select('age', 'job', 'label', 'rawPrediction', 'prediction', 'probability').show(10)"
   ]
  },
  {
   "cell_type": "markdown",
   "id": "b6aefc8e",
   "metadata": {},
   "source": [
    "### Évaluez le classificateur du Random Forest"
   ]
  },
  {
   "cell_type": "code",
   "execution_count": 34,
   "id": "871b027d",
   "metadata": {},
   "outputs": [
    {
     "name": "stdout",
     "output_type": "stream",
     "text": [
      "Test Area Under ROC: 0.8770900512243783\n"
     ]
    }
   ],
   "source": [
    "evaluator = BinaryClassificationEvaluator()\n",
    "print(\"Test Area Under ROC: \" + str(evaluator.evaluate(predictions, {evaluator.metricName: \"areaUnderROC\"})))"
   ]
  },
  {
   "cell_type": "markdown",
   "id": "7abd6c28",
   "metadata": {},
   "source": [
    "# Gradient-Boosted Tree Classifier"
   ]
  },
  {
   "cell_type": "code",
   "execution_count": 35,
   "id": "b67955ee",
   "metadata": {},
   "outputs": [
    {
     "name": "stdout",
     "output_type": "stream",
     "text": [
      "+---+----------+-----+--------------------+----------+--------------------+\n",
      "|age|       job|label|       rawPrediction|prediction|         probability|\n",
      "+---+----------+-----+--------------------+----------+--------------------+\n",
      "| 33|management|  0.0|[0.94992370947246...|       0.0|[0.86987425549896...|\n",
      "| 49|management|  0.0|[1.28281748604659...|       0.0|[0.92861688965145...|\n",
      "| 52|management|  0.0|[-0.5021429054421...|       1.0|[0.26809961471379...|\n",
      "| 53|management|  0.0|[0.09646513340517...|       0.0|[0.54808351175538...|\n",
      "| 58|management|  0.0|[1.05831377292163...|       0.0|[0.89250881497055...|\n",
      "| 32|management|  0.0|[0.57268875896254...|       0.0|[0.75866558918304...|\n",
      "| 57|management|  0.0|[0.34932946844840...|       0.0|[0.66789037418062...|\n",
      "| 52|management|  0.0|[1.33264456943866...|       0.0|[0.93494709840561...|\n",
      "| 46|management|  0.0|[1.28262818068783...|       0.0|[0.92859178839697...|\n",
      "| 31|management|  0.0|[1.16094954405484...|       0.0|[0.91067454521219...|\n",
      "+---+----------+-----+--------------------+----------+--------------------+\n",
      "only showing top 10 rows\n",
      "\n"
     ]
    }
   ],
   "source": [
    "from pyspark.ml.classification import GBTClassifier\n",
    "gbt = GBTClassifier(maxIter=10)\n",
    "gbtModel = gbt.fit(train)\n",
    "predictions = gbtModel.transform(test)\n",
    "predictions.select('age', 'job', 'label', 'rawPrediction', 'prediction', 'probability').show(10)"
   ]
  },
  {
   "cell_type": "markdown",
   "id": "82c12cac",
   "metadata": {},
   "source": [
    "### Évaluez le classificateur du Gradient-Boosted Tree"
   ]
  },
  {
   "cell_type": "code",
   "execution_count": 36,
   "id": "542c2bca",
   "metadata": {},
   "outputs": [
    {
     "name": "stdout",
     "output_type": "stream",
     "text": [
      "Test Area Under ROC: 0.8935091626908479\n"
     ]
    }
   ],
   "source": [
    "evaluator = BinaryClassificationEvaluator()\n",
    "print(\"Test Area Under ROC: \" + str(evaluator.evaluate(predictions, {evaluator.metricName: \"areaUnderROC\"})))"
   ]
  },
  {
   "cell_type": "markdown",
   "id": "e6a79f9a",
   "metadata": {},
   "source": [
    "Gradient-Boosted Tree a obtenu les meilleurs résultats, nous allons essayer de régler ce modèle avec **ParamGridBuilder** et **CrossValidator**. \n",
    "\n",
    "Avant cela, nous pouvons utiliser **ExplainParams()** pour afficher une liste de tous les paramètres et leurs définitions afin de comprendre quels paramètres sont disponibles pour le réglage."
   ]
  },
  {
   "cell_type": "code",
   "execution_count": 37,
   "id": "1950493c",
   "metadata": {},
   "outputs": [
    {
     "name": "stdout",
     "output_type": "stream",
     "text": [
      "cacheNodeIds: If false, the algorithm will pass trees to executors to match instances with nodes. If true, the algorithm will cache node IDs for each instance. Caching can speed up training of deeper trees. Users can set how often should the cache be checkpointed or disable it by setting checkpointInterval. (default: False)\n",
      "checkpointInterval: set checkpoint interval (>= 1) or disable checkpoint (-1). E.g. 10 means that the cache will get checkpointed every 10 iterations. Note: this setting will be ignored if the checkpoint directory is not set in the SparkContext. (default: 10)\n",
      "featureSubsetStrategy: The number of features to consider for splits at each tree node. Supported options: 'auto' (choose automatically for task: If numTrees == 1, set to 'all'. If numTrees > 1 (forest), set to 'sqrt' for classification and to 'onethird' for regression), 'all' (use all features), 'onethird' (use 1/3 of the features), 'sqrt' (use sqrt(number of features)), 'log2' (use log2(number of features)), 'n' (when n is in the range (0, 1.0], use n * number of features. When n is in the range (1, number of features), use n features). default = 'auto' (default: all)\n",
      "featuresCol: features column name. (default: features)\n",
      "impurity: Criterion used for information gain calculation (case-insensitive). Supported options: variance (default: variance)\n",
      "labelCol: label column name. (default: label)\n",
      "leafCol: Leaf indices column name. Predicted leaf index of each instance in each tree by preorder. (default: )\n",
      "lossType: Loss function which GBT tries to minimize (case-insensitive). Supported options: logistic (default: logistic)\n",
      "maxBins: Max number of bins for discretizing continuous features.  Must be >=2 and >= number of categories for any categorical feature. (default: 32)\n",
      "maxDepth: Maximum depth of the tree. (>= 0) E.g., depth 0 means 1 leaf node; depth 1 means 1 internal node + 2 leaf nodes. (default: 5)\n",
      "maxIter: max number of iterations (>= 0). (default: 20, current: 10)\n",
      "maxMemoryInMB: Maximum memory in MB allocated to histogram aggregation. If too small, then 1 node will be split per iteration, and its aggregates may exceed this size. (default: 256)\n",
      "minInfoGain: Minimum information gain for a split to be considered at a tree node. (default: 0.0)\n",
      "minInstancesPerNode: Minimum number of instances each child must have after split. If a split causes the left or right child to have fewer than minInstancesPerNode, the split will be discarded as invalid. Should be >= 1. (default: 1)\n",
      "minWeightFractionPerNode: Minimum fraction of the weighted sample count that each child must have after split. If a split causes the fraction of the total weight in the left or right child to be less than minWeightFractionPerNode, the split will be discarded as invalid. Should be in interval [0.0, 0.5). (default: 0.0)\n",
      "predictionCol: prediction column name. (default: prediction)\n",
      "probabilityCol: Column name for predicted class conditional probabilities. Note: Not all models output well-calibrated probability estimates! These probabilities should be treated as confidences, not precise probabilities. (default: probability)\n",
      "rawPredictionCol: raw prediction (a.k.a. confidence) column name. (default: rawPrediction)\n",
      "seed: random seed. (default: -5039817194504401681)\n",
      "stepSize: Step size (a.k.a. learning rate) in interval (0, 1] for shrinking the contribution of each estimator. (default: 0.1)\n",
      "subsamplingRate: Fraction of the training data used for learning each decision tree, in range (0, 1]. (default: 1.0)\n",
      "thresholds: Thresholds in multi-class classification to adjust the probability of predicting each class. Array must have length equal to the number of classes, with values > 0, excepting that at most one value may be 0. The class with largest value p/t is predicted, where p is the original probability of that class and t is the class's threshold. (undefined)\n",
      "validationIndicatorCol: name of the column that indicates whether each row is for training or for validation. False indicates training; true indicates validation. (undefined)\n",
      "validationTol: Threshold for stopping early when fit with validation is used. If the error rate on the validation input changes by less than the validationTol, then learning will stop early (before `maxIter`). This parameter is ignored when fit without validation is used. (default: 0.01)\n",
      "weightCol: weight column name. If this is not set or empty, we treat all instance weights as 1.0. (undefined)\n"
     ]
    }
   ],
   "source": [
    "print(gbt.explainParams())"
   ]
  },
  {
   "cell_type": "markdown",
   "id": "b497db14",
   "metadata": {},
   "source": [
    "# ParamGridBuilder et CrossValidator."
   ]
  },
  {
   "cell_type": "code",
   "execution_count": 38,
   "id": "617a232f",
   "metadata": {},
   "outputs": [
    {
     "data": {
      "text/plain": [
       "0.8954659543871663"
      ]
     },
     "execution_count": 38,
     "metadata": {},
     "output_type": "execute_result"
    }
   ],
   "source": [
    "from pyspark.ml.tuning import ParamGridBuilder, CrossValidator\n",
    "paramGrid = (ParamGridBuilder()\n",
    "             .addGrid(gbt.maxDepth, [2, 4, 6])\n",
    "             .addGrid(gbt.maxBins, [20, 60])\n",
    "             .addGrid(gbt.maxIter, [10, 20])\n",
    "             .build())\n",
    "cv = CrossValidator(estimator=gbt, estimatorParamMaps=paramGrid, evaluator=evaluator, numFolds=5)\n",
    "# Run cross validations.  \n",
    "cvModel = cv.fit(train)\n",
    "predictions = cvModel.transform(test)\n",
    "evaluator.evaluate(predictions)"
   ]
  },
  {
   "cell_type": "markdown",
   "id": "f3e59571",
   "metadata": {},
   "source": [
    "Pour résumer, nous avons créer une application de classification binaire à l'aide de **PySpark** et de l'**API Pipelines MLlib**. Nous avons essayé **quatre algorithmes** de **Machine Learning** et l'amplification du gradient a donné les meilleurs résultats sur notre jeu de données."
   ]
  }
 ],
 "metadata": {
  "kernelspec": {
   "display_name": "Python 3 (ipykernel)",
   "language": "python",
   "name": "python3"
  },
  "language_info": {
   "codemirror_mode": {
    "name": "ipython",
    "version": 3
   },
   "file_extension": ".py",
   "mimetype": "text/x-python",
   "name": "python",
   "nbconvert_exporter": "python",
   "pygments_lexer": "ipython3",
   "version": "3.8.8"
  }
 },
 "nbformat": 4,
 "nbformat_minor": 5
}
